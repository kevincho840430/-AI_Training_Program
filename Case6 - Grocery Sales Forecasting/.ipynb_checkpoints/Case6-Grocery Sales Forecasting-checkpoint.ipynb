{
 "cells": [
  {
   "cell_type": "markdown",
   "metadata": {},
   "source": [
    "#  <h1><center>Grocery Sales Forcesting for Supermarket</center></h1>\n",
    "\n",
    "<img src=\"./photo/header.png\">\n",
    "\n",
    "Img Source: Kaggle.com\n",
    "\n",
    "## Table of Contents\n",
    "\n",
    "1. Abstract\n",
    "\n",
    "2. Introduction\n",
    "\n",
    "3. Data Sources\n",
    "\n",
    "   3.a. Data Loading\n",
    "   \n",
    "   3.b. Anamoly Detection\n",
    "   \n",
    "   3.c. Data Preparation and Data Cleaning\n",
    "   \n",
    "4. Analyzing Impact of Oil on the Sales\n",
    "\n",
    "5. Data Blending\n",
    "\n",
    "6. Product Purchase Trend\n",
    "\n",
    "   6.a Fetching N most purchased products\n",
    "\n",
    "7. Exploratory Data Analysis\n",
    "\n",
    "8. Data Transformation\n",
    "\n",
    "   8.a. One Hot Encoding\n",
    "   \n",
    "9. Regression Techniques\n",
    "   9.a Linear Regression\n",
    "   \n",
    "   9.b Decision Tree Regressors\n",
    "   \n",
    "   9.c Extra Tree Regressors\n",
    "   \n",
    "   9.d Random Forest Regressors\n",
    "   \n",
    "   9.e Gradient Boosting Regressors\n",
    "   \n",
    "   9.f XGBoost\n",
    "   \n",
    "10. Light Gradient Boosting Method (LGBM)\n",
    "\n",
    "11. Creating Neural Network\n",
    "\n",
    "12. Conclusion\n",
    "\n",
    "13. References and Attributions\n",
    "\n"
   ]
  },
  {
   "cell_type": "markdown",
   "metadata": {},
   "source": [
    "# 1. Abstract\n",
    "\n",
    "<img src=\"./photo/Forecast.jpg\">\n",
    "\n",
    "Product sales forecasting is a major aspect of purchasing management. Forecasts are crucial in\n",
    "determining inventory stock levels, and accurately estimating future demand for goods has been an\n",
    "ongoing challenge, especially in the Supermarkets and Grocery Stores industry. If goods are not readily\n",
    "available or goods availability is more than demand overall profit can be compromised. As a result, sales\n",
    "forecasting for goods can be significant to ensure loss is minimized. Additionally, the problem becomes\n",
    "more complex as retailers add new locations with unique needs, new products, ever transitioning\n",
    "seasonal tastes, and unpredictable product marketing. In this analysis, a forecasting model is developed\n",
    "using machine learning algorithms to improve the accurately forecasts product sales. The proposed\n",
    "model is especially targeted to support the future purchase and more accurate forecasts product sales\n",
    "and is not intended to change current subjective forecasting methods. A model based on a real grocery\n",
    "store's data is developed in order to validate the use of the various machine learning algorithms. In the\n",
    "case study, multiple regression methods are compared. The methods impact on forecast product\n",
    "availability in store to ensure they have just enough products at right time.\n",
    "\n",
    "## The aim of this project is to forecast more accurate product sales for the Ecuadorian supermarket chain based on certain features.\n"
   ]
  },
  {
   "cell_type": "markdown",
   "metadata": {},
   "source": [
    "# 2. Introduction\n",
    "\n",
    "In this project, we are trying to forecasts product sales based on the items, stores, transaction and other\n",
    "dependent variables like holidays and oil prices.\n",
    "\n",
    "This is a Kaggle Competition called \"Corporación Favorita Grocery Sales Forecasting\" where the task is to\n",
    "predict stocking of products to better ensure grocery stores please customers by having just enough of\n",
    "the right products at the right time.\n",
    "\n",
    "For this particular problem, we have analyzed the data as a supervised learning problem. In order to\n",
    "forecasts the sales we have compared different regression models like Linear Regression, Decision Tree,\n",
    "ExtraTreeRegressor, Gradient Boosting, Random Forest and XgBoost. Further to optimize the results we\n",
    "have used multilayer perception (MLP: a class of feed forward artificial neural network) and LightGBM (\n",
    "gradient boosting framework that uses tree based learning algorithms).\n",
    "\n",
    "The data comes in the shape of multiple files. First, the training data (train.csv) essentially contains the sales by date, store, and item. The test data (test.csv) contains the same features without the sales information, which we are tasked to predict. The train vs test split is based on the date. In addition, some test items are not included in the train data.\n",
    "\n",
    "<img src=\"./photo/background.jpg\">"
   ]
  },
  {
   "cell_type": "code",
   "execution_count": 1,
   "metadata": {},
   "outputs": [
    {
     "name": "stderr",
     "output_type": "stream",
     "text": [
      "C:\\Users\\kevin\\anaconda3\\envs\\tensorflow-gpu\\lib\\site-packages\\xgboost\\compat.py:36: FutureWarning: pandas.Int64Index is deprecated and will be removed from pandas in a future version. Use pandas.Index with the appropriate dtype instead.\n",
      "  from pandas import MultiIndex, Int64Index\n"
     ]
    }
   ],
   "source": [
    "#Loading all the relevant libraries\n",
    "import pandas as pd\n",
    "import numpy as np\n",
    "import matplotlib.pyplot as plt\n",
    "import seaborn as sns\n",
    "from scipy import stats\n",
    "from sklearn.preprocessing import LabelEncoder,minmax_scale,PolynomialFeatures,StandardScaler,Normalizer\n",
    "from sklearn.model_selection import KFold,GridSearchCV,train_test_split\n",
    "import matplotlib.pyplot as plt\n",
    "from scipy.stats import itemfreq\n",
    "import seaborn as sns\n",
    "from sklearn import linear_model\n",
    "from sklearn.model_selection import cross_val_score\n",
    "from sklearn.linear_model import Lasso\n",
    "from sklearn.preprocessing import StandardScaler\n",
    "from sklearn.linear_model import LinearRegression, Ridge, LassoCV, ElasticNetCV\n",
    "from sklearn.metrics import mean_squared_error, make_scorer\n",
    "#from sklearn.model_selection import train_test_split\n",
    "%matplotlib inline\n",
    "import datetime\n",
    "from datetime import date, timedelta\n",
    "from sklearn.tree import DecisionTreeRegressor\n",
    "from sklearn.metrics import r2_score\n",
    "from sklearn.metrics import mean_squared_error\n",
    "from sklearn.ensemble import ExtraTreesRegressor\n",
    "from sklearn.ensemble import RandomForestRegressor\n",
    "from sklearn.model_selection import GridSearchCV\n",
    "from sklearn.ensemble import GradientBoostingRegressor\n",
    "from xgboost import XGBRegressor\n",
    "import keras\n",
    "import sys\n",
    "from keras.layers.core import Dense, Dropout, Activation\n",
    "from keras.models import Sequential\n",
    "from keras.layers.core import Dense, Dropout, Activation\n",
    "import lightgbm as lgb"
   ]
  },
  {
   "cell_type": "markdown",
   "metadata": {},
   "source": [
    "# 3. Data Sources\n",
    "There are 5 additional data files that provide the following information:\n",
    "\n",
    "-- stores.csv : Details about the stores, such as location and type.\n",
    "\n",
    "-- items.csv: Item metadata, such as class and whether they are perishable(腐敗的). Note, that perishable items have a higher scoring weight than others.\n",
    "\n",
    "-- transactions.csv: Count of sales transactions(銷售交易量) for the training data\n",
    "\n",
    "-- oil.csv: Daily oil price. This is relevant, because “Ecuador is an oil-dependent country and its economical health is highly vulnerable to shocks in oil prices.”     (每日油價。 這是相關的，因為“厄瓜多爾是一個依賴石油的國家，其經濟健康狀況極易受到油價衝擊的影響。”)\n",
    "\n",
    "-- holidays_events.csv: Holidays in Ecuador. Some holidays can be transferred to another day (possibly from weekend to weekday).\n",
    "\n",
    "\n",
    "<img src=\"./photo/Capture1.jpg\">\n",
    "\n",
    "\n",
    "The text in the document by Source Kaggle is licensed under CC BY 3.0 https://creativecommons.org/licenses/by/3.0/us/\n"
   ]
  },
  {
   "cell_type": "markdown",
   "metadata": {},
   "source": [
    "# 3.a. Data Loading"
   ]
  },
  {
   "cell_type": "code",
   "execution_count": 2,
   "metadata": {
    "tags": []
   },
   "outputs": [],
   "source": [
    "#Loading the data\n",
    "dtypes = {'store_nbr': np.dtype('int64'),\n",
    "          'item_nbr': np.dtype('int64'),\n",
    "          'unit_sales': np.dtype('float64'),\n",
    "          'onpromotion': np.dtype('O')}\n",
    "\n",
    "Sales = pd.read_csv('./data/train.csv', dtype=dtypes)\n",
    "test = pd.read_csv('./data/test.csv', dtype=dtypes)\n",
    "stores = pd.read_csv('./data/stores.csv')\n",
    "items = pd.read_csv('./data/items.csv')\n",
    "trans = pd.read_csv('./data/transactions.csv')\n",
    "#oil = pd.read_csv('../input/oil.csv') #we upload this database later\n",
    "holidays = pd.read_csv('./data/holidays_events.csv')"
   ]
  },
  {
   "cell_type": "code",
   "execution_count": 112,
   "metadata": {},
   "outputs": [
    {
     "data": {
      "text/plain": [
       "3359566"
      ]
     },
     "execution_count": 112,
     "metadata": {},
     "output_type": "execute_result"
    }
   ],
   "source": [
    "#sampling the data, since the data is too huge to carry put any operations\n",
    "date_mask = (Sales['date'] >= '2017-07-15') & (Sales['date'] <= '2017-08-15')\n",
    "\n",
    "Salesdf = Sales[date_mask]\n",
    "\n",
    "#Print the size\n",
    "len(Salesdf)"
   ]
  },
  {
   "cell_type": "code",
   "execution_count": 113,
   "metadata": {},
   "outputs": [
    {
     "name": "stdout",
     "output_type": "stream",
     "text": [
      "<class 'pandas.core.frame.DataFrame'>\n",
      "Int64Index: 3359566 entries, 122137474 to 125497039\n",
      "Data columns (total 6 columns):\n",
      " #   Column       Dtype  \n",
      "---  ------       -----  \n",
      " 0   id           int64  \n",
      " 1   date         object \n",
      " 2   store_nbr    int64  \n",
      " 3   item_nbr     int64  \n",
      " 4   unit_sales   float64\n",
      " 5   onpromotion  object \n",
      "dtypes: float64(1), int64(3), object(2)\n",
      "memory usage: 179.4+ MB\n"
     ]
    }
   ],
   "source": [
    "Salesdf.info()"
   ]
  },
  {
   "cell_type": "markdown",
   "metadata": {},
   "source": [
    "# 3.b. Anamoly Detection"
   ]
  },
  {
   "cell_type": "code",
   "execution_count": 114,
   "metadata": {
    "tags": []
   },
   "outputs": [],
   "source": [
    "#補上篩選過後的日期\n",
    "#Load the data\n",
    "oil = pd.read_csv('oil.csv')\n",
    "\n",
    "#add missing date\n",
    "min_oil_date = min(Salesdf.date)\n",
    "max_oil_date = max(Salesdf.date)\n",
    "\n",
    "calendar = []\n",
    "\n",
    "d1 = datetime.datetime.strptime(min_oil_date, '%Y-%m-%d')  # start date\n",
    "d2 = datetime.datetime.strptime(max_oil_date, '%Y-%m-%d')  # end date\n",
    "\n",
    "delta = d2 - d1         # timedelta\n",
    "\n",
    "for i in range(delta.days + 1):\n",
    "    calendar.append(datetime.date.strftime(d1 + timedelta(days=i), '%Y-%m-%d'))\n",
    "\n",
    "calendar = pd.DataFrame({'date':calendar})\n",
    "\n",
    "oil = calendar.merge(oil, left_on='date', right_on='date', how='left')"
   ]
  },
  {
   "cell_type": "code",
   "execution_count": 115,
   "metadata": {},
   "outputs": [
    {
     "data": {
      "text/html": [
       "<div>\n",
       "<style scoped>\n",
       "    .dataframe tbody tr th:only-of-type {\n",
       "        vertical-align: middle;\n",
       "    }\n",
       "\n",
       "    .dataframe tbody tr th {\n",
       "        vertical-align: top;\n",
       "    }\n",
       "\n",
       "    .dataframe thead th {\n",
       "        text-align: right;\n",
       "    }\n",
       "</style>\n",
       "<table border=\"1\" class=\"dataframe\">\n",
       "  <thead>\n",
       "    <tr style=\"text-align: right;\">\n",
       "      <th></th>\n",
       "      <th>date</th>\n",
       "      <th>dcoilwtico</th>\n",
       "    </tr>\n",
       "  </thead>\n",
       "  <tbody>\n",
       "    <tr>\n",
       "      <th>0</th>\n",
       "      <td>2017-07-15</td>\n",
       "      <td>NaN</td>\n",
       "    </tr>\n",
       "    <tr>\n",
       "      <th>1</th>\n",
       "      <td>2017-07-16</td>\n",
       "      <td>NaN</td>\n",
       "    </tr>\n",
       "    <tr>\n",
       "      <th>2</th>\n",
       "      <td>2017-07-17</td>\n",
       "      <td>46.02</td>\n",
       "    </tr>\n",
       "    <tr>\n",
       "      <th>3</th>\n",
       "      <td>2017-07-18</td>\n",
       "      <td>46.40</td>\n",
       "    </tr>\n",
       "    <tr>\n",
       "      <th>4</th>\n",
       "      <td>2017-07-19</td>\n",
       "      <td>47.10</td>\n",
       "    </tr>\n",
       "  </tbody>\n",
       "</table>\n",
       "</div>"
      ],
      "text/plain": [
       "         date  dcoilwtico\n",
       "0  2017-07-15         NaN\n",
       "1  2017-07-16         NaN\n",
       "2  2017-07-17       46.02\n",
       "3  2017-07-18       46.40\n",
       "4  2017-07-19       47.10"
      ]
     },
     "execution_count": 115,
     "metadata": {},
     "output_type": "execute_result"
    }
   ],
   "source": [
    "oil.head()"
   ]
  },
  {
   "cell_type": "markdown",
   "metadata": {},
   "source": [
    "# 3.c Data Preparation and Data Cleaning"
   ]
  },
  {
   "cell_type": "code",
   "execution_count": 116,
   "metadata": {},
   "outputs": [
    {
     "name": "stdout",
     "output_type": "stream",
     "text": [
      "date           0\n",
      "dcoilwtico    10\n",
      "dtype: int64 \n",
      "\n",
      "Type :  \n",
      " date           object\n",
      "dcoilwtico    float64\n",
      "dtype: object\n"
     ]
    },
    {
     "data": {
      "text/html": [
       "<div>\n",
       "<style scoped>\n",
       "    .dataframe tbody tr th:only-of-type {\n",
       "        vertical-align: middle;\n",
       "    }\n",
       "\n",
       "    .dataframe tbody tr th {\n",
       "        vertical-align: top;\n",
       "    }\n",
       "\n",
       "    .dataframe thead th {\n",
       "        text-align: right;\n",
       "    }\n",
       "</style>\n",
       "<table border=\"1\" class=\"dataframe\">\n",
       "  <thead>\n",
       "    <tr style=\"text-align: right;\">\n",
       "      <th></th>\n",
       "      <th>date</th>\n",
       "      <th>dcoilwtico</th>\n",
       "    </tr>\n",
       "  </thead>\n",
       "  <tbody>\n",
       "    <tr>\n",
       "      <th>0</th>\n",
       "      <td>2017-07-15</td>\n",
       "      <td>NaN</td>\n",
       "    </tr>\n",
       "    <tr>\n",
       "      <th>1</th>\n",
       "      <td>2017-07-16</td>\n",
       "      <td>NaN</td>\n",
       "    </tr>\n",
       "    <tr>\n",
       "      <th>2</th>\n",
       "      <td>2017-07-17</td>\n",
       "      <td>46.02</td>\n",
       "    </tr>\n",
       "    <tr>\n",
       "      <th>3</th>\n",
       "      <td>2017-07-18</td>\n",
       "      <td>46.40</td>\n",
       "    </tr>\n",
       "    <tr>\n",
       "      <th>4</th>\n",
       "      <td>2017-07-19</td>\n",
       "      <td>47.10</td>\n",
       "    </tr>\n",
       "  </tbody>\n",
       "</table>\n",
       "</div>"
      ],
      "text/plain": [
       "         date  dcoilwtico\n",
       "0  2017-07-15         NaN\n",
       "1  2017-07-16         NaN\n",
       "2  2017-07-17       46.02\n",
       "3  2017-07-18       46.40\n",
       "4  2017-07-19       47.10"
      ]
     },
     "execution_count": 116,
     "metadata": {},
     "output_type": "execute_result"
    }
   ],
   "source": [
    "#Check how many NA\n",
    "print(oil.isnull().sum(), '\\n')\n",
    "\n",
    "#Type\n",
    "print('Type : ', '\\n', oil.dtypes)\n",
    "\n",
    "#Print the 3 first line\n",
    "oil.head(5)"
   ]
  },
  {
   "cell_type": "markdown",
   "metadata": {},
   "source": [
    "# 4. Analyzing Impact of Oil on the sales of other products"
   ]
  },
  {
   "cell_type": "code",
   "execution_count": 117,
   "metadata": {
    "tags": []
   },
   "outputs": [],
   "source": [
    "#處理缺失值並補上\n",
    "#Check index to apply the formula\n",
    "na_index_oil = oil[oil['dcoilwtico'].isnull() == True].index.values\n",
    "\n",
    "#Define the index to use to apply the formala\n",
    "na_index_oil_plus = na_index_oil.copy()\n",
    "na_index_oil_minus = np.maximum(0, na_index_oil-1)\n",
    "\n",
    "for i in range(len(na_index_oil)):\n",
    "    k = 1\n",
    "    while (na_index_oil[min(i+k,len(na_index_oil)-1)] == na_index_oil[i]+k):\n",
    "        k += 1\n",
    "    na_index_oil_plus[i] = min(len(oil)-1, na_index_oil_plus[i] + k )\n",
    "\n",
    "#Apply the formula(往前往後補)\n",
    "for i in range(len(na_index_oil)):\n",
    "    if (na_index_oil[i] == 0):\n",
    "        oil.loc[na_index_oil[i], 'dcoilwtico'] = oil.loc[na_index_oil_plus[i], 'dcoilwtico']\n",
    "    elif (na_index_oil[i] == len(oil)):\n",
    "        oil.loc[na_index_oil[i], 'dcoilwtico'] = oil.loc[na_index_oil_minus[i], 'dcoilwtico']\n",
    "    else:\n",
    "        oil.loc[na_index_oil[i], 'dcoilwtico'] = (oil.loc[na_index_oil_plus[i], 'dcoilwtico'] + oil.loc[na_index_oil_minus[i], 'dcoilwtico'])/ 2   "
   ]
  },
  {
   "cell_type": "code",
   "execution_count": 118,
   "metadata": {},
   "outputs": [
    {
     "data": {
      "text/html": [
       "<div>\n",
       "<style scoped>\n",
       "    .dataframe tbody tr th:only-of-type {\n",
       "        vertical-align: middle;\n",
       "    }\n",
       "\n",
       "    .dataframe tbody tr th {\n",
       "        vertical-align: top;\n",
       "    }\n",
       "\n",
       "    .dataframe thead th {\n",
       "        text-align: right;\n",
       "    }\n",
       "</style>\n",
       "<table border=\"1\" class=\"dataframe\">\n",
       "  <thead>\n",
       "    <tr style=\"text-align: right;\">\n",
       "      <th></th>\n",
       "      <th>date</th>\n",
       "      <th>dcoilwtico</th>\n",
       "    </tr>\n",
       "  </thead>\n",
       "  <tbody>\n",
       "    <tr>\n",
       "      <th>0</th>\n",
       "      <td>2017-07-15</td>\n",
       "      <td>46.02</td>\n",
       "    </tr>\n",
       "    <tr>\n",
       "      <th>1</th>\n",
       "      <td>2017-07-16</td>\n",
       "      <td>46.02</td>\n",
       "    </tr>\n",
       "    <tr>\n",
       "      <th>2</th>\n",
       "      <td>2017-07-17</td>\n",
       "      <td>46.02</td>\n",
       "    </tr>\n",
       "    <tr>\n",
       "      <th>3</th>\n",
       "      <td>2017-07-18</td>\n",
       "      <td>46.40</td>\n",
       "    </tr>\n",
       "    <tr>\n",
       "      <th>4</th>\n",
       "      <td>2017-07-19</td>\n",
       "      <td>47.10</td>\n",
       "    </tr>\n",
       "  </tbody>\n",
       "</table>\n",
       "</div>"
      ],
      "text/plain": [
       "         date  dcoilwtico\n",
       "0  2017-07-15       46.02\n",
       "1  2017-07-16       46.02\n",
       "2  2017-07-17       46.02\n",
       "3  2017-07-18       46.40\n",
       "4  2017-07-19       47.10"
      ]
     },
     "execution_count": 118,
     "metadata": {},
     "output_type": "execute_result"
    }
   ],
   "source": [
    "oil.head()"
   ]
  },
  {
   "cell_type": "code",
   "execution_count": 119,
   "metadata": {},
   "outputs": [
    {
     "data": {
      "text/plain": [
       "date          0\n",
       "dcoilwtico    0\n",
       "dtype: int64"
      ]
     },
     "execution_count": 119,
     "metadata": {},
     "output_type": "execute_result"
    }
   ],
   "source": [
    "oil.isnull().sum()"
   ]
  },
  {
   "cell_type": "code",
   "execution_count": 120,
   "metadata": {},
   "outputs": [
    {
     "data": {
      "image/png": "[encoded data removed]",
      "text/plain": [
       "<Figure size 1440x720 with 1 Axes>"
      ]
     },
     "metadata": {
      "needs_background": "light"
     },
     "output_type": "display_data"
    }
   ],
   "source": [
    "#Plot the oil values\n",
    "oil_plot = oil['dcoilwtico'].copy()\n",
    "oil_plot.index = oil['date'].copy()\n",
    "plt.figure(figsize=(20,10))\n",
    "oil_plot.plot()\n",
    "plt.show()"
   ]
  },
  {
   "cell_type": "markdown",
   "metadata": {},
   "source": [
    "# By the end of the analysis it is evident that the sale of oil as an important commodity has a significant impact on the unit sales of other products.\n",
    "\n",
    "## 分析結束時，很明顯，石油作為一種重要商品的銷售對其他產品的單位銷售額有重大影響。"
   ]
  },
  {
   "cell_type": "markdown",
   "metadata": {},
   "source": [
    "The text in the document by Source Wikipedia is licensed under CC BY 3.0 https://creativecommons.org/licenses/by/3.0/us/\n",
    "\n",
    "The text in the document by Analytics Vidhya is licensed under CC BY 3.0 https://creativecommons.org/licenses/by/3.0/us/\n",
    "\n",
    "The code in the document by Source Kaggle is licensed under the MIT License https://opensource.org/licenses/MIT"
   ]
  },
  {
   "cell_type": "markdown",
   "metadata": {},
   "source": [
    "# 5. Data Blending"
   ]
  },
  {
   "cell_type": "code",
   "execution_count": 121,
   "metadata": {
    "tags": []
   },
   "outputs": [],
   "source": [
    "#Merge train\n",
    "Salesdf = Salesdf.drop('id', axis = 1)\n",
    "Salesdf = Salesdf.merge(stores, left_on='store_nbr', right_on='store_nbr', how='left')\n",
    "Salesdf = Salesdf.merge(items, left_on='item_nbr', right_on='item_nbr', how='left')\n",
    "Salesdf = Salesdf.merge(holidays, left_on='date', right_on='date', how='left')\n",
    "Salesdf = Salesdf.merge(oil, left_on='date', right_on='date', how='left')\n",
    "Salesdf = Salesdf.drop(['description', 'state', 'locale_name', 'class'], axis = 1)"
   ]
  },
  {
   "cell_type": "code",
   "execution_count": 122,
   "metadata": {},
   "outputs": [
    {
     "name": "stdout",
     "output_type": "stream",
     "text": [
      "<class 'pandas.core.frame.DataFrame'>\n",
      "Int64Index: 3359566 entries, 0 to 3359565\n",
      "Data columns (total 14 columns):\n",
      " #   Column       Dtype  \n",
      "---  ------       -----  \n",
      " 0   date         object \n",
      " 1   store_nbr    int64  \n",
      " 2   item_nbr     int64  \n",
      " 3   unit_sales   float64\n",
      " 4   onpromotion  object \n",
      " 5   city         object \n",
      " 6   type_x       object \n",
      " 7   cluster      int64  \n",
      " 8   family       object \n",
      " 9   perishable   int64  \n",
      " 10  type_y       object \n",
      " 11  locale       object \n",
      " 12  transferred  object \n",
      " 13  dcoilwtico   float64\n",
      "dtypes: float64(2), int64(4), object(8)\n",
      "memory usage: 384.5+ MB\n"
     ]
    }
   ],
   "source": [
    "Salesdf.info()"
   ]
  },
  {
   "cell_type": "code",
   "execution_count": 123,
   "metadata": {},
   "outputs": [
    {
     "data": {
      "text/plain": [
       "type_y         2626056\n",
       "locale         2626056\n",
       "transferred    2626056\n",
       "date                 0\n",
       "store_nbr            0\n",
       "item_nbr             0\n",
       "unit_sales           0\n",
       "onpromotion          0\n",
       "city                 0\n",
       "type_x               0\n",
       "cluster              0\n",
       "family               0\n",
       "perishable           0\n",
       "dcoilwtico           0\n",
       "dtype: int64"
      ]
     },
     "execution_count": 123,
     "metadata": {},
     "output_type": "execute_result"
    }
   ],
   "source": [
    "Salesdf.isnull().sum().sort_values(ascending=False)"
   ]
  },
  {
   "cell_type": "code",
   "execution_count": 124,
   "metadata": {},
   "outputs": [
    {
     "name": "stdout",
     "output_type": "stream",
     "text": [
      "Shape :  (3359566, 14) \n",
      "\n",
      "Type :  \n",
      " date            object\n",
      "store_nbr        int64\n",
      "item_nbr         int64\n",
      "unit_sales     float64\n",
      "onpromotion     object\n",
      "city            object\n",
      "type_x          object\n",
      "cluster          int64\n",
      "family          object\n",
      "perishable       int64\n",
      "type_y          object\n",
      "locale          object\n",
      "transferred     object\n",
      "dcoilwtico     float64\n",
      "dtype: object\n"
     ]
    },
    {
     "data": {
      "text/html": [
       "<div>\n",
       "<style scoped>\n",
       "    .dataframe tbody tr th:only-of-type {\n",
       "        vertical-align: middle;\n",
       "    }\n",
       "\n",
       "    .dataframe tbody tr th {\n",
       "        vertical-align: top;\n",
       "    }\n",
       "\n",
       "    .dataframe thead th {\n",
       "        text-align: right;\n",
       "    }\n",
       "</style>\n",
       "<table border=\"1\" class=\"dataframe\">\n",
       "  <thead>\n",
       "    <tr style=\"text-align: right;\">\n",
       "      <th></th>\n",
       "      <th>store_nbr</th>\n",
       "      <th>item_nbr</th>\n",
       "      <th>unit_sales</th>\n",
       "      <th>cluster</th>\n",
       "      <th>perishable</th>\n",
       "      <th>dcoilwtico</th>\n",
       "    </tr>\n",
       "  </thead>\n",
       "  <tbody>\n",
       "    <tr>\n",
       "      <th>count</th>\n",
       "      <td>3.359566e+06</td>\n",
       "      <td>3.359566e+06</td>\n",
       "      <td>3.359566e+06</td>\n",
       "      <td>3.359566e+06</td>\n",
       "      <td>3.359566e+06</td>\n",
       "      <td>3.359566e+06</td>\n",
       "    </tr>\n",
       "    <tr>\n",
       "      <th>mean</th>\n",
       "      <td>2.831059e+01</td>\n",
       "      <td>1.171591e+06</td>\n",
       "      <td>8.053185e+00</td>\n",
       "      <td>8.703191e+00</td>\n",
       "      <td>2.580432e-01</td>\n",
       "      <td>4.814635e+01</td>\n",
       "    </tr>\n",
       "    <tr>\n",
       "      <th>std</th>\n",
       "      <td>1.630974e+01</td>\n",
       "      <td>5.871905e+05</td>\n",
       "      <td>2.371664e+01</td>\n",
       "      <td>4.566465e+00</td>\n",
       "      <td>4.375579e-01</td>\n",
       "      <td>1.468388e+00</td>\n",
       "    </tr>\n",
       "    <tr>\n",
       "      <th>min</th>\n",
       "      <td>1.000000e+00</td>\n",
       "      <td>9.699500e+04</td>\n",
       "      <td>-2.410000e+02</td>\n",
       "      <td>1.000000e+00</td>\n",
       "      <td>0.000000e+00</td>\n",
       "      <td>4.578000e+01</td>\n",
       "    </tr>\n",
       "    <tr>\n",
       "      <th>25%</th>\n",
       "      <td>1.300000e+01</td>\n",
       "      <td>6.925310e+05</td>\n",
       "      <td>2.000000e+00</td>\n",
       "      <td>5.000000e+00</td>\n",
       "      <td>0.000000e+00</td>\n",
       "      <td>4.640000e+01</td>\n",
       "    </tr>\n",
       "    <tr>\n",
       "      <th>50%</th>\n",
       "      <td>2.900000e+01</td>\n",
       "      <td>1.212452e+06</td>\n",
       "      <td>4.000000e+00</td>\n",
       "      <td>9.000000e+00</td>\n",
       "      <td>0.000000e+00</td>\n",
       "      <td>4.858000e+01</td>\n",
       "    </tr>\n",
       "    <tr>\n",
       "      <th>75%</th>\n",
       "      <td>4.400000e+01</td>\n",
       "      <td>1.583407e+06</td>\n",
       "      <td>8.000000e+00</td>\n",
       "      <td>1.300000e+01</td>\n",
       "      <td>1.000000e+00</td>\n",
       "      <td>4.947000e+01</td>\n",
       "    </tr>\n",
       "    <tr>\n",
       "      <th>max</th>\n",
       "      <td>5.400000e+01</td>\n",
       "      <td>2.127114e+06</td>\n",
       "      <td>5.901000e+03</td>\n",
       "      <td>1.700000e+01</td>\n",
       "      <td>1.000000e+00</td>\n",
       "      <td>5.021000e+01</td>\n",
       "    </tr>\n",
       "  </tbody>\n",
       "</table>\n",
       "</div>"
      ],
      "text/plain": [
       "          store_nbr      item_nbr    unit_sales       cluster    perishable  \\\n",
       "count  3.359566e+06  3.359566e+06  3.359566e+06  3.359566e+06  3.359566e+06   \n",
       "mean   2.831059e+01  1.171591e+06  8.053185e+00  8.703191e+00  2.580432e-01   \n",
       "std    1.630974e+01  5.871905e+05  2.371664e+01  4.566465e+00  4.375579e-01   \n",
       "min    1.000000e+00  9.699500e+04 -2.410000e+02  1.000000e+00  0.000000e+00   \n",
       "25%    1.300000e+01  6.925310e+05  2.000000e+00  5.000000e+00  0.000000e+00   \n",
       "50%    2.900000e+01  1.212452e+06  4.000000e+00  9.000000e+00  0.000000e+00   \n",
       "75%    4.400000e+01  1.583407e+06  8.000000e+00  1.300000e+01  1.000000e+00   \n",
       "max    5.400000e+01  2.127114e+06  5.901000e+03  1.700000e+01  1.000000e+00   \n",
       "\n",
       "         dcoilwtico  \n",
       "count  3.359566e+06  \n",
       "mean   4.814635e+01  \n",
       "std    1.468388e+00  \n",
       "min    4.578000e+01  \n",
       "25%    4.640000e+01  \n",
       "50%    4.858000e+01  \n",
       "75%    4.947000e+01  \n",
       "max    5.021000e+01  "
      ]
     },
     "execution_count": 124,
     "metadata": {},
     "output_type": "execute_result"
    }
   ],
   "source": [
    "#Shape\n",
    "print('Shape : ', Salesdf.shape, '\\n')\n",
    "\n",
    "#Type\n",
    "print('Type : ', '\\n', Salesdf.dtypes)\n",
    "\n",
    "#Summary\n",
    "Salesdf.describe()"
   ]
  },
  {
   "cell_type": "code",
   "execution_count": 125,
   "metadata": {},
   "outputs": [
    {
     "data": {
      "text/html": [
       "<div>\n",
       "<style scoped>\n",
       "    .dataframe tbody tr th:only-of-type {\n",
       "        vertical-align: middle;\n",
       "    }\n",
       "\n",
       "    .dataframe tbody tr th {\n",
       "        vertical-align: top;\n",
       "    }\n",
       "\n",
       "    .dataframe thead th {\n",
       "        text-align: right;\n",
       "    }\n",
       "</style>\n",
       "<table border=\"1\" class=\"dataframe\">\n",
       "  <thead>\n",
       "    <tr style=\"text-align: right;\">\n",
       "      <th></th>\n",
       "      <th>date</th>\n",
       "      <th>store_nbr</th>\n",
       "      <th>item_nbr</th>\n",
       "      <th>unit_sales</th>\n",
       "      <th>onpromotion</th>\n",
       "      <th>city</th>\n",
       "      <th>type_x</th>\n",
       "      <th>cluster</th>\n",
       "      <th>family</th>\n",
       "      <th>perishable</th>\n",
       "      <th>type_y</th>\n",
       "      <th>locale</th>\n",
       "      <th>transferred</th>\n",
       "      <th>dcoilwtico</th>\n",
       "    </tr>\n",
       "  </thead>\n",
       "  <tbody>\n",
       "    <tr>\n",
       "      <th>1995244</th>\n",
       "      <td>2017-08-02</td>\n",
       "      <td>50</td>\n",
       "      <td>692531</td>\n",
       "      <td>8.000</td>\n",
       "      <td>False</td>\n",
       "      <td>Ambato</td>\n",
       "      <td>A</td>\n",
       "      <td>14</td>\n",
       "      <td>GROCERY I</td>\n",
       "      <td>0</td>\n",
       "      <td>NaN</td>\n",
       "      <td>NaN</td>\n",
       "      <td>NaN</td>\n",
       "      <td>49.600</td>\n",
       "    </tr>\n",
       "    <tr>\n",
       "      <th>2968876</th>\n",
       "      <td>2017-08-12</td>\n",
       "      <td>14</td>\n",
       "      <td>314570</td>\n",
       "      <td>4.000</td>\n",
       "      <td>False</td>\n",
       "      <td>Riobamba</td>\n",
       "      <td>C</td>\n",
       "      <td>7</td>\n",
       "      <td>CLEANING</td>\n",
       "      <td>0</td>\n",
       "      <td>NaN</td>\n",
       "      <td>NaN</td>\n",
       "      <td>NaN</td>\n",
       "      <td>48.200</td>\n",
       "    </tr>\n",
       "    <tr>\n",
       "      <th>202995</th>\n",
       "      <td>2017-07-16</td>\n",
       "      <td>46</td>\n",
       "      <td>2000482</td>\n",
       "      <td>5.000</td>\n",
       "      <td>False</td>\n",
       "      <td>Quito</td>\n",
       "      <td>A</td>\n",
       "      <td>14</td>\n",
       "      <td>BEVERAGES</td>\n",
       "      <td>0</td>\n",
       "      <td>NaN</td>\n",
       "      <td>NaN</td>\n",
       "      <td>NaN</td>\n",
       "      <td>46.020</td>\n",
       "    </tr>\n",
       "    <tr>\n",
       "      <th>2613254</th>\n",
       "      <td>2017-08-08</td>\n",
       "      <td>44</td>\n",
       "      <td>360703</td>\n",
       "      <td>4.000</td>\n",
       "      <td>False</td>\n",
       "      <td>Quito</td>\n",
       "      <td>A</td>\n",
       "      <td>5</td>\n",
       "      <td>GROCERY I</td>\n",
       "      <td>0</td>\n",
       "      <td>NaN</td>\n",
       "      <td>NaN</td>\n",
       "      <td>NaN</td>\n",
       "      <td>49.070</td>\n",
       "    </tr>\n",
       "    <tr>\n",
       "      <th>1964050</th>\n",
       "      <td>2017-08-02</td>\n",
       "      <td>37</td>\n",
       "      <td>214381</td>\n",
       "      <td>9.000</td>\n",
       "      <td>True</td>\n",
       "      <td>Cuenca</td>\n",
       "      <td>D</td>\n",
       "      <td>2</td>\n",
       "      <td>CLEANING</td>\n",
       "      <td>0</td>\n",
       "      <td>NaN</td>\n",
       "      <td>NaN</td>\n",
       "      <td>NaN</td>\n",
       "      <td>49.600</td>\n",
       "    </tr>\n",
       "    <tr>\n",
       "      <th>1161677</th>\n",
       "      <td>2017-07-26</td>\n",
       "      <td>2</td>\n",
       "      <td>1062374</td>\n",
       "      <td>1.374</td>\n",
       "      <td>False</td>\n",
       "      <td>Quito</td>\n",
       "      <td>D</td>\n",
       "      <td>13</td>\n",
       "      <td>MEATS</td>\n",
       "      <td>1</td>\n",
       "      <td>NaN</td>\n",
       "      <td>NaN</td>\n",
       "      <td>NaN</td>\n",
       "      <td>48.580</td>\n",
       "    </tr>\n",
       "    <tr>\n",
       "      <th>1099881</th>\n",
       "      <td>2017-07-25</td>\n",
       "      <td>24</td>\n",
       "      <td>559494</td>\n",
       "      <td>8.000</td>\n",
       "      <td>False</td>\n",
       "      <td>Guayaquil</td>\n",
       "      <td>D</td>\n",
       "      <td>1</td>\n",
       "      <td>BREAD/BAKERY</td>\n",
       "      <td>1</td>\n",
       "      <td>Additional</td>\n",
       "      <td>Local</td>\n",
       "      <td>False</td>\n",
       "      <td>47.770</td>\n",
       "    </tr>\n",
       "    <tr>\n",
       "      <th>2150312</th>\n",
       "      <td>2017-08-04</td>\n",
       "      <td>23</td>\n",
       "      <td>1974834</td>\n",
       "      <td>2.000</td>\n",
       "      <td>False</td>\n",
       "      <td>Ambato</td>\n",
       "      <td>D</td>\n",
       "      <td>9</td>\n",
       "      <td>BEVERAGES</td>\n",
       "      <td>0</td>\n",
       "      <td>NaN</td>\n",
       "      <td>NaN</td>\n",
       "      <td>NaN</td>\n",
       "      <td>49.570</td>\n",
       "    </tr>\n",
       "    <tr>\n",
       "      <th>3108084</th>\n",
       "      <td>2017-08-13</td>\n",
       "      <td>33</td>\n",
       "      <td>2122188</td>\n",
       "      <td>3.000</td>\n",
       "      <td>False</td>\n",
       "      <td>Quevedo</td>\n",
       "      <td>C</td>\n",
       "      <td>3</td>\n",
       "      <td>GROCERY I</td>\n",
       "      <td>0</td>\n",
       "      <td>NaN</td>\n",
       "      <td>NaN</td>\n",
       "      <td>NaN</td>\n",
       "      <td>47.895</td>\n",
       "    </tr>\n",
       "    <tr>\n",
       "      <th>408495</th>\n",
       "      <td>2017-07-18</td>\n",
       "      <td>45</td>\n",
       "      <td>1997781</td>\n",
       "      <td>5.000</td>\n",
       "      <td>False</td>\n",
       "      <td>Quito</td>\n",
       "      <td>A</td>\n",
       "      <td>11</td>\n",
       "      <td>CLEANING</td>\n",
       "      <td>0</td>\n",
       "      <td>NaN</td>\n",
       "      <td>NaN</td>\n",
       "      <td>NaN</td>\n",
       "      <td>46.400</td>\n",
       "    </tr>\n",
       "  </tbody>\n",
       "</table>\n",
       "</div>"
      ],
      "text/plain": [
       "               date  store_nbr  item_nbr  unit_sales onpromotion       city  \\\n",
       "1995244  2017-08-02         50    692531       8.000       False     Ambato   \n",
       "2968876  2017-08-12         14    314570       4.000       False   Riobamba   \n",
       "202995   2017-07-16         46   2000482       5.000       False      Quito   \n",
       "2613254  2017-08-08         44    360703       4.000       False      Quito   \n",
       "1964050  2017-08-02         37    214381       9.000        True     Cuenca   \n",
       "1161677  2017-07-26          2   1062374       1.374       False      Quito   \n",
       "1099881  2017-07-25         24    559494       8.000       False  Guayaquil   \n",
       "2150312  2017-08-04         23   1974834       2.000       False     Ambato   \n",
       "3108084  2017-08-13         33   2122188       3.000       False    Quevedo   \n",
       "408495   2017-07-18         45   1997781       5.000       False      Quito   \n",
       "\n",
       "        type_x  cluster        family  perishable      type_y locale  \\\n",
       "1995244      A       14     GROCERY I           0         NaN    NaN   \n",
       "2968876      C        7      CLEANING           0         NaN    NaN   \n",
       "202995       A       14     BEVERAGES           0         NaN    NaN   \n",
       "2613254      A        5     GROCERY I           0         NaN    NaN   \n",
       "1964050      D        2      CLEANING           0         NaN    NaN   \n",
       "1161677      D       13         MEATS           1         NaN    NaN   \n",
       "1099881      D        1  BREAD/BAKERY           1  Additional  Local   \n",
       "2150312      D        9     BEVERAGES           0         NaN    NaN   \n",
       "3108084      C        3     GROCERY I           0         NaN    NaN   \n",
       "408495       A       11      CLEANING           0         NaN    NaN   \n",
       "\n",
       "        transferred  dcoilwtico  \n",
       "1995244         NaN      49.600  \n",
       "2968876         NaN      48.200  \n",
       "202995          NaN      46.020  \n",
       "2613254         NaN      49.070  \n",
       "1964050         NaN      49.600  \n",
       "1161677         NaN      48.580  \n",
       "1099881       False      47.770  \n",
       "2150312         NaN      49.570  \n",
       "3108084         NaN      47.895  \n",
       "408495          NaN      46.400  "
      ]
     },
     "execution_count": 125,
     "metadata": {},
     "output_type": "execute_result"
    }
   ],
   "source": [
    "#5 random lines\n",
    "Salesdf.sample(10)"
   ]
  },
  {
   "cell_type": "code",
   "execution_count": 126,
   "metadata": {},
   "outputs": [
    {
     "data": {
      "image/png": "[encoded data removed]",
      "text/plain": [
       "<Figure size 1440x720 with 1 Axes>"
      ]
     },
     "metadata": {
      "needs_background": "light"
     },
     "output_type": "display_data"
    }
   ],
   "source": [
    "plt.figure(figsize=(20,10))\n",
    "sns.countplot(x='store_nbr', data=Salesdf);"
   ]
  },
  {
   "cell_type": "markdown",
   "metadata": {},
   "source": [
    "# The the above plot shows the number of stores according to each store type."
   ]
  },
  {
   "cell_type": "markdown",
   "metadata": {},
   "source": [
    "# 6. Product Purchase Trend"
   ]
  },
  {
   "cell_type": "markdown",
   "metadata": {},
   "source": [
    "##  6.a. Fetching the N most purchased products"
   ]
  },
  {
   "cell_type": "code",
   "execution_count": 139,
   "metadata": {
    "scrolled": true
   },
   "outputs": [
    {
     "name": "stderr",
     "output_type": "stream",
     "text": [
      "C:\\Users\\kevin\\AppData\\Local\\Temp\\ipykernel_6164\\219255750.py:3: DeprecationWarning: `itemfreq` is deprecated!\n",
      "`itemfreq` is deprecated and will be removed in a future version. Use instead `np.unique(..., return_counts=True)`\n",
      "  labels_freq_pd = itemfreq(data[variable])\n"
     ]
    },
    {
     "name": "stdout",
     "output_type": "stream",
     "text": [
      "labels_filtered_index[0].shape =  (34207,)\n"
     ]
    }
   ],
   "source": [
    "#Fetching the N most purchased products#\n",
    "def N_most_labels(data, variable , N , all='TRUE'):\n",
    "    labels_freq_pd = itemfreq(data[variable])\n",
    "    labels_freq_pd = labels_freq_pd[labels_freq_pd[:, 1].argsort()[::-1]] #[::-1] ==> to sort in descending order\n",
    "    \n",
    "    if all == 'FALSE':\n",
    "        main_labels = labels_freq_pd[:,0][0:N]\n",
    "    else: \n",
    "        main_labels = labels_freq_pd[:,0][:]\n",
    "        \n",
    "    labels_raw_np = data[variable].to_numpy() #transform in numpy\n",
    "    labels_raw_np = labels_raw_np.reshape(labels_raw_np.shape[0],1)\n",
    "\n",
    "    labels_filtered_index = np.where(labels_raw_np == main_labels)\n",
    "    \n",
    "    return labels_freq_pd, labels_filtered_index\n",
    "\n",
    "label_freq, labels_filtered_index = N_most_labels(data = Salesdf, variable = \"item_nbr\", N = 20, all='FALSE')\n",
    "print(\"labels_filtered_index[0].shape = \", labels_filtered_index[0].shape)\n",
    "\n",
    "Salesdf_filtered = Salesdf.loc[labels_filtered_index[0],:]\n"
   ]
  },
  {
   "cell_type": "markdown",
   "metadata": {},
   "source": [
    "The number of most purchased products gives us the idea of looking for the sales for those products."
   ]
  },
  {
   "cell_type": "markdown",
   "metadata": {},
   "source": [
    "The code in the document by Source Kaggle is licensed under the MIT License https://opensource.org/licenses/MIT"
   ]
  },
  {
   "cell_type": "code",
   "execution_count": 140,
   "metadata": {
    "scrolled": true
   },
   "outputs": [
    {
     "data": {
      "text/plain": [
       "array([[2042947,    1726],\n",
       "       [ 502331,    1724],\n",
       "       [ 314384,    1723],\n",
       "       [ 323013,    1722],\n",
       "       [ 364606,    1722],\n",
       "       [ 222879,    1720],\n",
       "       [2042941,    1719],\n",
       "       [ 414750,    1716],\n",
       "       [1162382,    1715],\n",
       "       [1418845,    1715]], dtype=int64)"
      ]
     },
     "execution_count": 140,
     "metadata": {},
     "output_type": "execute_result"
    }
   ],
   "source": [
    "label_freq[0:10]"
   ]
  },
  {
   "cell_type": "code",
   "execution_count": 141,
   "metadata": {},
   "outputs": [
    {
     "data": {
      "text/html": [
       "<div>\n",
       "<style scoped>\n",
       "    .dataframe tbody tr th:only-of-type {\n",
       "        vertical-align: middle;\n",
       "    }\n",
       "\n",
       "    .dataframe tbody tr th {\n",
       "        vertical-align: top;\n",
       "    }\n",
       "\n",
       "    .dataframe thead th {\n",
       "        text-align: right;\n",
       "    }\n",
       "</style>\n",
       "<table border=\"1\" class=\"dataframe\">\n",
       "  <thead>\n",
       "    <tr style=\"text-align: right;\">\n",
       "      <th></th>\n",
       "      <th>date</th>\n",
       "      <th>store_nbr</th>\n",
       "      <th>item_nbr</th>\n",
       "      <th>unit_sales</th>\n",
       "      <th>onpromotion</th>\n",
       "      <th>city</th>\n",
       "      <th>type_x</th>\n",
       "      <th>cluster</th>\n",
       "      <th>family</th>\n",
       "      <th>perishable</th>\n",
       "      <th>type_y</th>\n",
       "      <th>locale</th>\n",
       "      <th>transferred</th>\n",
       "      <th>dcoilwtico</th>\n",
       "    </tr>\n",
       "  </thead>\n",
       "  <tbody>\n",
       "    <tr>\n",
       "      <th>2608880</th>\n",
       "      <td>2017-08-08</td>\n",
       "      <td>41</td>\n",
       "      <td>1958216</td>\n",
       "      <td>24.0</td>\n",
       "      <td>False</td>\n",
       "      <td>Machala</td>\n",
       "      <td>D</td>\n",
       "      <td>4</td>\n",
       "      <td>BEVERAGES</td>\n",
       "      <td>0</td>\n",
       "      <td>NaN</td>\n",
       "      <td>NaN</td>\n",
       "      <td>NaN</td>\n",
       "      <td>49.07</td>\n",
       "    </tr>\n",
       "    <tr>\n",
       "      <th>2652542</th>\n",
       "      <td>2017-08-09</td>\n",
       "      <td>7</td>\n",
       "      <td>1052563</td>\n",
       "      <td>3.0</td>\n",
       "      <td>False</td>\n",
       "      <td>Quito</td>\n",
       "      <td>D</td>\n",
       "      <td>8</td>\n",
       "      <td>GROCERY I</td>\n",
       "      <td>0</td>\n",
       "      <td>NaN</td>\n",
       "      <td>NaN</td>\n",
       "      <td>NaN</td>\n",
       "      <td>49.59</td>\n",
       "    </tr>\n",
       "    <tr>\n",
       "      <th>179842</th>\n",
       "      <td>2017-07-16</td>\n",
       "      <td>37</td>\n",
       "      <td>261052</td>\n",
       "      <td>29.0</td>\n",
       "      <td>False</td>\n",
       "      <td>Cuenca</td>\n",
       "      <td>D</td>\n",
       "      <td>2</td>\n",
       "      <td>GROCERY I</td>\n",
       "      <td>0</td>\n",
       "      <td>NaN</td>\n",
       "      <td>NaN</td>\n",
       "      <td>NaN</td>\n",
       "      <td>46.02</td>\n",
       "    </tr>\n",
       "  </tbody>\n",
       "</table>\n",
       "</div>"
      ],
      "text/plain": [
       "               date  store_nbr  item_nbr  unit_sales onpromotion     city  \\\n",
       "2608880  2017-08-08         41   1958216        24.0       False  Machala   \n",
       "2652542  2017-08-09          7   1052563         3.0       False    Quito   \n",
       "179842   2017-07-16         37    261052        29.0       False   Cuenca   \n",
       "\n",
       "        type_x  cluster     family  perishable type_y locale transferred  \\\n",
       "2608880      D        4  BEVERAGES           0    NaN    NaN         NaN   \n",
       "2652542      D        8  GROCERY I           0    NaN    NaN         NaN   \n",
       "179842       D        2  GROCERY I           0    NaN    NaN         NaN   \n",
       "\n",
       "         dcoilwtico  \n",
       "2608880       49.07  \n",
       "2652542       49.59  \n",
       "179842        46.02  "
      ]
     },
     "execution_count": 141,
     "metadata": {},
     "output_type": "execute_result"
    }
   ],
   "source": [
    "Salesdf_filtered.sample(3)"
   ]
  },
  {
   "cell_type": "code",
   "execution_count": 142,
   "metadata": {},
   "outputs": [
    {
     "name": "stdout",
     "output_type": "stream",
     "text": [
      "Size of na_index_Salesdf :  26729 \n",
      "\n"
     ]
    },
    {
     "data": {
      "text/plain": [
       "date           0\n",
       "store_nbr      0\n",
       "item_nbr       0\n",
       "unit_sales     0\n",
       "onpromotion    0\n",
       "city           0\n",
       "type_x         0\n",
       "cluster        0\n",
       "family         0\n",
       "perishable     0\n",
       "type_y         0\n",
       "locale         0\n",
       "transferred    0\n",
       "dcoilwtico     0\n",
       "dtype: int64"
      ]
     },
     "execution_count": 142,
     "metadata": {},
     "output_type": "execute_result"
    }
   ],
   "source": [
    "#Fill in cells if there is no holiday by the value : \"no_holyday\"\n",
    "na_index_Salesdf = Salesdf_filtered[Salesdf_filtered['type_y'].isnull() == True].index.values\n",
    "print(\"Size of na_index_Salesdf : \", len(na_index_Salesdf), '\\n')\n",
    "\n",
    "Salesdf_filtered.loc[Salesdf_filtered['type_y'].isnull(), 'type_y'] = \"no_holyday\"\n",
    "Salesdf_filtered.loc[Salesdf_filtered['locale'].isnull(), 'locale'] = \"no_locale\"\n",
    "Salesdf_filtered.loc[Salesdf_filtered['transferred'].isnull(), 'transferred'] = \"no_holyday\"\n",
    "    \n",
    "#check is there is NA\n",
    "Salesdf_filtered.isnull().sum()"
   ]
  },
  {
   "cell_type": "code",
   "execution_count": 143,
   "metadata": {
    "tags": []
   },
   "outputs": [],
   "source": [
    "#將年月分離\n",
    "def get_month_year(df):\n",
    "    df['month'] = df.date.apply(lambda x: x.split('-')[1])\n",
    "    df['year'] = df.date.apply(lambda x: x.split('-')[0])\n",
    "    \n",
    "    return df\n",
    "\n",
    "get_month_year(Salesdf_filtered);"
   ]
  },
  {
   "cell_type": "code",
   "execution_count": 144,
   "metadata": {
    "tags": []
   },
   "outputs": [],
   "source": [
    "#將日轉為week顯示\n",
    "Salesdf_filtered['date'] = pd.to_datetime(Salesdf_filtered['date'])\n",
    "Salesdf_filtered['day'] = Salesdf_filtered['date'].dt.day_name()\n",
    "Salesdf_filtered = Salesdf_filtered.drop('date', axis=1)"
   ]
  },
  {
   "cell_type": "code",
   "execution_count": 145,
   "metadata": {},
   "outputs": [
    {
     "data": {
      "text/html": [
       "<div>\n",
       "<style scoped>\n",
       "    .dataframe tbody tr th:only-of-type {\n",
       "        vertical-align: middle;\n",
       "    }\n",
       "\n",
       "    .dataframe tbody tr th {\n",
       "        vertical-align: top;\n",
       "    }\n",
       "\n",
       "    .dataframe thead th {\n",
       "        text-align: right;\n",
       "    }\n",
       "</style>\n",
       "<table border=\"1\" class=\"dataframe\">\n",
       "  <thead>\n",
       "    <tr style=\"text-align: right;\">\n",
       "      <th></th>\n",
       "      <th>store_nbr</th>\n",
       "      <th>item_nbr</th>\n",
       "      <th>unit_sales</th>\n",
       "      <th>onpromotion</th>\n",
       "      <th>city</th>\n",
       "      <th>type_x</th>\n",
       "      <th>cluster</th>\n",
       "      <th>family</th>\n",
       "      <th>perishable</th>\n",
       "      <th>type_y</th>\n",
       "      <th>locale</th>\n",
       "      <th>transferred</th>\n",
       "      <th>dcoilwtico</th>\n",
       "      <th>month</th>\n",
       "      <th>year</th>\n",
       "      <th>day</th>\n",
       "    </tr>\n",
       "  </thead>\n",
       "  <tbody>\n",
       "    <tr>\n",
       "      <th>1569415</th>\n",
       "      <td>54</td>\n",
       "      <td>222879</td>\n",
       "      <td>27.0</td>\n",
       "      <td>False</td>\n",
       "      <td>El Carmen</td>\n",
       "      <td>C</td>\n",
       "      <td>3</td>\n",
       "      <td>GROCERY I</td>\n",
       "      <td>0</td>\n",
       "      <td>no_holyday</td>\n",
       "      <td>no_locale</td>\n",
       "      <td>no_holyday</td>\n",
       "      <td>49.965</td>\n",
       "      <td>07</td>\n",
       "      <td>2017</td>\n",
       "      <td>Saturday</td>\n",
       "    </tr>\n",
       "    <tr>\n",
       "      <th>2274489</th>\n",
       "      <td>33</td>\n",
       "      <td>1463860</td>\n",
       "      <td>20.0</td>\n",
       "      <td>False</td>\n",
       "      <td>Quevedo</td>\n",
       "      <td>C</td>\n",
       "      <td>3</td>\n",
       "      <td>BEVERAGES</td>\n",
       "      <td>0</td>\n",
       "      <td>Holiday</td>\n",
       "      <td>Local</td>\n",
       "      <td>False</td>\n",
       "      <td>49.470</td>\n",
       "      <td>08</td>\n",
       "      <td>2017</td>\n",
       "      <td>Saturday</td>\n",
       "    </tr>\n",
       "    <tr>\n",
       "      <th>2770346</th>\n",
       "      <td>18</td>\n",
       "      <td>314384</td>\n",
       "      <td>9.0</td>\n",
       "      <td>True</td>\n",
       "      <td>Quito</td>\n",
       "      <td>B</td>\n",
       "      <td>16</td>\n",
       "      <td>GROCERY I</td>\n",
       "      <td>0</td>\n",
       "      <td>Holiday</td>\n",
       "      <td>National</td>\n",
       "      <td>True</td>\n",
       "      <td>48.540</td>\n",
       "      <td>08</td>\n",
       "      <td>2017</td>\n",
       "      <td>Thursday</td>\n",
       "    </tr>\n",
       "    <tr>\n",
       "      <th>2303021</th>\n",
       "      <td>46</td>\n",
       "      <td>2042941</td>\n",
       "      <td>164.0</td>\n",
       "      <td>False</td>\n",
       "      <td>Quito</td>\n",
       "      <td>A</td>\n",
       "      <td>14</td>\n",
       "      <td>BEVERAGES</td>\n",
       "      <td>0</td>\n",
       "      <td>Holiday</td>\n",
       "      <td>Local</td>\n",
       "      <td>False</td>\n",
       "      <td>49.470</td>\n",
       "      <td>08</td>\n",
       "      <td>2017</td>\n",
       "      <td>Saturday</td>\n",
       "    </tr>\n",
       "    <tr>\n",
       "      <th>1118330</th>\n",
       "      <td>36</td>\n",
       "      <td>265559</td>\n",
       "      <td>40.0</td>\n",
       "      <td>False</td>\n",
       "      <td>Libertad</td>\n",
       "      <td>E</td>\n",
       "      <td>10</td>\n",
       "      <td>GROCERY I</td>\n",
       "      <td>0</td>\n",
       "      <td>Additional</td>\n",
       "      <td>Local</td>\n",
       "      <td>False</td>\n",
       "      <td>47.770</td>\n",
       "      <td>07</td>\n",
       "      <td>2017</td>\n",
       "      <td>Tuesday</td>\n",
       "    </tr>\n",
       "    <tr>\n",
       "      <th>83567</th>\n",
       "      <td>44</td>\n",
       "      <td>502331</td>\n",
       "      <td>133.0</td>\n",
       "      <td>False</td>\n",
       "      <td>Quito</td>\n",
       "      <td>A</td>\n",
       "      <td>5</td>\n",
       "      <td>BREAD/BAKERY</td>\n",
       "      <td>1</td>\n",
       "      <td>no_holyday</td>\n",
       "      <td>no_locale</td>\n",
       "      <td>no_holyday</td>\n",
       "      <td>46.020</td>\n",
       "      <td>07</td>\n",
       "      <td>2017</td>\n",
       "      <td>Saturday</td>\n",
       "    </tr>\n",
       "    <tr>\n",
       "      <th>1952068</th>\n",
       "      <td>29</td>\n",
       "      <td>502331</td>\n",
       "      <td>34.0</td>\n",
       "      <td>False</td>\n",
       "      <td>Guayaquil</td>\n",
       "      <td>E</td>\n",
       "      <td>10</td>\n",
       "      <td>BREAD/BAKERY</td>\n",
       "      <td>1</td>\n",
       "      <td>no_holyday</td>\n",
       "      <td>no_locale</td>\n",
       "      <td>no_holyday</td>\n",
       "      <td>49.600</td>\n",
       "      <td>08</td>\n",
       "      <td>2017</td>\n",
       "      <td>Wednesday</td>\n",
       "    </tr>\n",
       "    <tr>\n",
       "      <th>1769566</th>\n",
       "      <td>46</td>\n",
       "      <td>1958216</td>\n",
       "      <td>22.0</td>\n",
       "      <td>False</td>\n",
       "      <td>Quito</td>\n",
       "      <td>A</td>\n",
       "      <td>14</td>\n",
       "      <td>BEVERAGES</td>\n",
       "      <td>0</td>\n",
       "      <td>no_holyday</td>\n",
       "      <td>no_locale</td>\n",
       "      <td>no_holyday</td>\n",
       "      <td>50.210</td>\n",
       "      <td>07</td>\n",
       "      <td>2017</td>\n",
       "      <td>Monday</td>\n",
       "    </tr>\n",
       "    <tr>\n",
       "      <th>1011086</th>\n",
       "      <td>32</td>\n",
       "      <td>2042941</td>\n",
       "      <td>10.0</td>\n",
       "      <td>False</td>\n",
       "      <td>Guayaquil</td>\n",
       "      <td>C</td>\n",
       "      <td>3</td>\n",
       "      <td>BEVERAGES</td>\n",
       "      <td>0</td>\n",
       "      <td>Additional</td>\n",
       "      <td>Local</td>\n",
       "      <td>False</td>\n",
       "      <td>46.210</td>\n",
       "      <td>07</td>\n",
       "      <td>2017</td>\n",
       "      <td>Monday</td>\n",
       "    </tr>\n",
       "    <tr>\n",
       "      <th>954621</th>\n",
       "      <td>2</td>\n",
       "      <td>364606</td>\n",
       "      <td>37.0</td>\n",
       "      <td>False</td>\n",
       "      <td>Quito</td>\n",
       "      <td>D</td>\n",
       "      <td>13</td>\n",
       "      <td>GROCERY I</td>\n",
       "      <td>0</td>\n",
       "      <td>Additional</td>\n",
       "      <td>Local</td>\n",
       "      <td>False</td>\n",
       "      <td>46.210</td>\n",
       "      <td>07</td>\n",
       "      <td>2017</td>\n",
       "      <td>Monday</td>\n",
       "    </tr>\n",
       "  </tbody>\n",
       "</table>\n",
       "</div>"
      ],
      "text/plain": [
       "         store_nbr  item_nbr  unit_sales onpromotion       city type_x  \\\n",
       "1569415         54    222879        27.0       False  El Carmen      C   \n",
       "2274489         33   1463860        20.0       False    Quevedo      C   \n",
       "2770346         18    314384         9.0        True      Quito      B   \n",
       "2303021         46   2042941       164.0       False      Quito      A   \n",
       "1118330         36    265559        40.0       False   Libertad      E   \n",
       "83567           44    502331       133.0       False      Quito      A   \n",
       "1952068         29    502331        34.0       False  Guayaquil      E   \n",
       "1769566         46   1958216        22.0       False      Quito      A   \n",
       "1011086         32   2042941        10.0       False  Guayaquil      C   \n",
       "954621           2    364606        37.0       False      Quito      D   \n",
       "\n",
       "         cluster        family  perishable      type_y     locale transferred  \\\n",
       "1569415        3     GROCERY I           0  no_holyday  no_locale  no_holyday   \n",
       "2274489        3     BEVERAGES           0     Holiday      Local       False   \n",
       "2770346       16     GROCERY I           0     Holiday   National        True   \n",
       "2303021       14     BEVERAGES           0     Holiday      Local       False   \n",
       "1118330       10     GROCERY I           0  Additional      Local       False   \n",
       "83567          5  BREAD/BAKERY           1  no_holyday  no_locale  no_holyday   \n",
       "1952068       10  BREAD/BAKERY           1  no_holyday  no_locale  no_holyday   \n",
       "1769566       14     BEVERAGES           0  no_holyday  no_locale  no_holyday   \n",
       "1011086        3     BEVERAGES           0  Additional      Local       False   \n",
       "954621        13     GROCERY I           0  Additional      Local       False   \n",
       "\n",
       "         dcoilwtico month  year        day  \n",
       "1569415      49.965    07  2017   Saturday  \n",
       "2274489      49.470    08  2017   Saturday  \n",
       "2770346      48.540    08  2017   Thursday  \n",
       "2303021      49.470    08  2017   Saturday  \n",
       "1118330      47.770    07  2017    Tuesday  \n",
       "83567        46.020    07  2017   Saturday  \n",
       "1952068      49.600    08  2017  Wednesday  \n",
       "1769566      50.210    07  2017     Monday  \n",
       "1011086      46.210    07  2017     Monday  \n",
       "954621       46.210    07  2017     Monday  "
      ]
     },
     "execution_count": 145,
     "metadata": {},
     "output_type": "execute_result"
    }
   ],
   "source": [
    "Salesdf_filtered.sample(10)"
   ]
  },
  {
   "cell_type": "code",
   "execution_count": 135,
   "metadata": {
    "tags": []
   },
   "outputs": [],
   "source": [
    "strain = Salesdf.sample(frac=0.01,replace=True)"
   ]
  },
  {
   "cell_type": "markdown",
   "metadata": {},
   "source": [
    "# 7. Exploratory Data Analysis"
   ]
  },
  {
   "cell_type": "code",
   "execution_count": 107,
   "metadata": {},
   "outputs": [
    {
     "data": {
      "text/plain": [
       "array(['GROCERY I', 'BEVERAGES', 'DAIRY', 'PRODUCE', 'LIQUOR,WINE,BEER',\n",
       "       'CLEANING', 'BREAD/BAKERY', 'MEATS', 'HOME CARE', 'PERSONAL CARE',\n",
       "       'HOME AND KITCHEN II', 'FROZEN FOODS', 'POULTRY', 'DELI',\n",
       "       'LAWN AND GARDEN', 'HARDWARE', 'HOME AND KITCHEN I', 'EGGS',\n",
       "       'PREPARED FOODS', 'GROCERY II', 'PLAYERS AND ELECTRONICS',\n",
       "       'SEAFOOD', 'PET SUPPLIES', 'AUTOMOTIVE', 'MAGAZINES',\n",
       "       'SCHOOL AND OFFICE SUPPLIES', 'LINGERIE', 'LADIESWEAR',\n",
       "       'CELEBRATION', 'BEAUTY', 'BABY CARE', 'HOME APPLIANCES'],\n",
       "      dtype=object)"
      ]
     },
     "execution_count": 107,
     "metadata": {},
     "output_type": "execute_result"
    }
   ],
   "source": [
    "#產品類別\n",
    "strain['family'].unique()"
   ]
  },
  {
   "cell_type": "markdown",
   "metadata": {},
   "source": [
    "--------------------------------------------------"
   ]
  },
  {
   "cell_type": "markdown",
   "metadata": {},
   "source": [
    "# EDA for Family(產品類別) with unit_sales(銷售)"
   ]
  },
  {
   "cell_type": "code",
   "execution_count": 108,
   "metadata": {},
   "outputs": [
    {
     "data": {
      "text/plain": [
       "<AxesSubplot:xlabel='family', ylabel='unit_sales'>"
      ]
     },
     "execution_count": 108,
     "metadata": {},
     "output_type": "execute_result"
    },
    {
     "data": {
      "image/png": "[encoded data removed]",
      "text/plain": [
       "<Figure size 5040x432 with 1 Axes>"
      ]
     },
     "metadata": {
      "needs_background": "light"
     },
     "output_type": "display_data"
    }
   ],
   "source": [
    "# Plotting Sales per Item Family\n",
    "fig, (axis1) = plt.subplots(1,1,figsize=(70,6))\n",
    "sns.barplot(x='family', y='unit_sales', data=strain, ax=axis1)"
   ]
  },
  {
   "cell_type": "code",
   "execution_count": 85,
   "metadata": {},
   "outputs": [],
   "source": [
    "#圖太常可考慮把圖存下來看\n",
    "# sns.barplot(x='family', y='unit_sales', data=strain, ax=axis1).figure.savefig('file.png')"
   ]
  },
  {
   "cell_type": "markdown",
   "metadata": {},
   "source": [
    "# The above plot shows the sales of products per Item family. The average unit_sales ranges somewhere between 0 to 20 with the maximum for the Food and Beverages item family.\n",
    "(上圖顯示了每個項目系列的產品銷售額。 平均 unit_sales 介於 0 到 20 之間，其中食品和飲料項目系列的最大值。)"
   ]
  },
  {
   "cell_type": "markdown",
   "metadata": {},
   "source": [
    "--------------------------------------------------------"
   ]
  },
  {
   "cell_type": "markdown",
   "metadata": {},
   "source": [
    "# EDA for type_x(銷售類別) with unit_sales(銷售)"
   ]
  },
  {
   "cell_type": "code",
   "execution_count": 88,
   "metadata": {},
   "outputs": [
    {
     "data": {
      "text/plain": [
       "<AxesSubplot:xlabel='type_x', ylabel='unit_sales'>"
      ]
     },
     "execution_count": 88,
     "metadata": {},
     "output_type": "execute_result"
    },
    {
     "data": {
      "image/png": "[encoded data removed]",
      "text/plain": [
       "<Figure size 1080x288 with 1 Axes>"
      ]
     },
     "metadata": {
      "needs_background": "light"
     },
     "output_type": "display_data"
    }
   ],
   "source": [
    "# Plotting Sales per Store Type\n",
    "fig, (axis1) = plt.subplots(1,1,figsize=(15,4))\n",
    "sns.barplot(x='type_x', y='unit_sales', data=strain, ax=axis1)"
   ]
  },
  {
   "cell_type": "markdown",
   "metadata": {},
   "source": [
    "# The bar plot of Total Sales per store type shows that Store type A has the maximum sales over other store types.\n",
    "(每個商店類型的總銷售額條形圖顯示，商店類型 B 的銷售額高於其他商店類型。但注意這只是抽樣結果)"
   ]
  },
  {
   "cell_type": "markdown",
   "metadata": {},
   "source": [
    "--------------------"
   ]
  },
  {
   "cell_type": "markdown",
   "metadata": {},
   "source": [
    "# EDA for city store count"
   ]
  },
  {
   "cell_type": "code",
   "execution_count": 90,
   "metadata": {},
   "outputs": [
    {
     "data": {
      "text/plain": [
       "<AxesSubplot:xlabel='city', ylabel='count'>"
      ]
     },
     "execution_count": 90,
     "metadata": {},
     "output_type": "execute_result"
    },
    {
     "data": {
      "image/png": "[encoded data removed]",
      "text/plain": [
       "<Figure size 2160x288 with 1 Axes>"
      ]
     },
     "metadata": {
      "needs_background": "light"
     },
     "output_type": "display_data"
    }
   ],
   "source": [
    "# Plotting Stores in Cities\n",
    "fig, (axis1) = plt.subplots(1,1,figsize=(30,4))\n",
    "sns.countplot(x=stores['city'], data=stores, ax=axis1)"
   ]
  },
  {
   "cell_type": "markdown",
   "metadata": {},
   "source": [
    "# The City of Quito has the most number of Stores and the second being the city of Guayaquil."
   ]
  },
  {
   "cell_type": "markdown",
   "metadata": {},
   "source": [
    "-----------------------------"
   ]
  },
  {
   "cell_type": "markdown",
   "metadata": {},
   "source": [
    "# EDA Type of cities "
   ]
  },
  {
   "cell_type": "code",
   "execution_count": 36,
   "metadata": {},
   "outputs": [
    {
     "data": {
      "image/png": "[encoded data removed]",
      "text/plain": [
       "<matplotlib.figure.Figure at 0x1d781649278>"
      ]
     },
     "metadata": {},
     "output_type": "display_data"
    }
   ],
   "source": [
    "# Stacked barplot of types of stores across the different cities\n",
    "plt.style.use('seaborn-white')\n",
    "city_cluster = stores.groupby(['city','type']).store_nbr.size()\n",
    "city_cluster.unstack().plot(kind='bar',stacked=True, colormap= 'viridis', figsize=(13,11),  grid=False)\n",
    "plt.title('Stacked Barplot of Store types opened for each city')\n",
    "plt.ylabel('Count of stores for a particular city')\n",
    "plt.show()"
   ]
  },
  {
   "cell_type": "code",
   "execution_count": 37,
   "metadata": {},
   "outputs": [
    {
     "data": {
      "image/png": "[encoded data removed]",
      "text/plain": [
       "<matplotlib.figure.Figure at 0x1d782a10588>"
      ]
     },
     "metadata": {},
     "output_type": "display_data"
    }
   ],
   "source": [
    "# Holiday Events data\n",
    "plt.style.use('seaborn-white')\n",
    "# plt.style.use('dark_background')\n",
    "holiday_local_type = holidays.groupby(['locale_name', 'type']).size()\n",
    "holiday_local_type.unstack().plot(kind='bar',stacked=True, colormap= 'magma_r', figsize=(12,10),  grid=False)\n",
    "plt.title('Stacked Barplot of locale name against event type')\n",
    "plt.ylabel('Count of entries')\n",
    "plt.show()"
   ]
  },
  {
   "cell_type": "markdown",
   "metadata": {},
   "source": [
    "# 8. Data Transformation Techniques"
   ]
  },
  {
   "cell_type": "markdown",
   "metadata": {},
   "source": [
    "# 8.a One hot Encoding"
   ]
  },
  {
   "cell_type": "markdown",
   "metadata": {},
   "source": [
    "## What is One Hot Encoding?\n",
    "A one hot encoding is a representation of categorical variables as binary vectors.\n",
    "This first requires that the categorical values be mapped to integer values.\n",
    "Then, each integer value is represented as a binary vector that is all zero values except the index of the integer, which is marked with a 1.\n",
    "\n",
    "## Why Use a One Hot Encoding?\n",
    "A one hot encoding allows the representation of categorical data to be more expressive.\n",
    "Many machine learning algorithms cannot work with categorical data directly. The categories must be converted into numbers. This is required for both input and output variables that are categorical."
   ]
  },
  {
   "cell_type": "code",
   "execution_count": 146,
   "metadata": {
    "tags": []
   },
   "outputs": [],
   "source": [
    "## One hot encoding using get_dummies on pandas dataframe.\n",
    "dummy_variables = ['onpromotion','city','type_x','cluster','store_nbr','item_nbr',\n",
    "                'family','perishable','type_y', 'locale', 'transferred', 'month', 'day']\n",
    "\n",
    "for var in dummy_variables:\n",
    "    dummy = pd.get_dummies(Salesdf_filtered[var], prefix = var, drop_first = False)\n",
    "    Salesdf_filtered = pd.concat([Salesdf_filtered, dummy], axis = 1)\n",
    "\n",
    "Salesdf_filtered = Salesdf_filtered.drop(dummy_variables, axis = 1)\n",
    "Salesdf_filtered = Salesdf_filtered.drop(['year'], axis = 1)"
   ]
  },
  {
   "cell_type": "code",
   "execution_count": 147,
   "metadata": {},
   "outputs": [
    {
     "name": "stdout",
     "output_type": "stream",
     "text": [
      "<class 'pandas.core.frame.DataFrame'>\n",
      "Int64Index: 34207 entries, 112 to 3359551\n",
      "Columns: 148 entries, unit_sales to day_Wednesday\n",
      "dtypes: float64(2), uint8(146)\n",
      "memory usage: 5.5 MB\n"
     ]
    }
   ],
   "source": [
    "Salesdf_filtered.info()\n",
    "#Salesdf_filtered.sample(10)"
   ]
  },
  {
   "cell_type": "code",
   "execution_count": 138,
   "metadata": {},
   "outputs": [
    {
     "data": {
      "text/html": [
       "<div>\n",
       "<style scoped>\n",
       "    .dataframe tbody tr th:only-of-type {\n",
       "        vertical-align: middle;\n",
       "    }\n",
       "\n",
       "    .dataframe tbody tr th {\n",
       "        vertical-align: top;\n",
       "    }\n",
       "\n",
       "    .dataframe thead th {\n",
       "        text-align: right;\n",
       "    }\n",
       "</style>\n",
       "<table border=\"1\" class=\"dataframe\">\n",
       "  <thead>\n",
       "    <tr style=\"text-align: right;\">\n",
       "      <th></th>\n",
       "      <th>unit_sales</th>\n",
       "      <th>dcoilwtico</th>\n",
       "      <th>month_07</th>\n",
       "      <th>month_08</th>\n",
       "      <th>month_07</th>\n",
       "      <th>month_08</th>\n",
       "      <th>month_07</th>\n",
       "      <th>month_08</th>\n",
       "      <th>month_07</th>\n",
       "      <th>month_08</th>\n",
       "      <th>...</th>\n",
       "      <th>month_07</th>\n",
       "      <th>month_08</th>\n",
       "      <th>month_07</th>\n",
       "      <th>month_08</th>\n",
       "      <th>month_07</th>\n",
       "      <th>month_08</th>\n",
       "      <th>month_07</th>\n",
       "      <th>month_08</th>\n",
       "      <th>month_07</th>\n",
       "      <th>month_08</th>\n",
       "    </tr>\n",
       "  </thead>\n",
       "  <tbody>\n",
       "    <tr>\n",
       "      <th>112</th>\n",
       "      <td>4.0</td>\n",
       "      <td>46.02</td>\n",
       "      <td>1</td>\n",
       "      <td>0</td>\n",
       "      <td>1</td>\n",
       "      <td>0</td>\n",
       "      <td>1</td>\n",
       "      <td>0</td>\n",
       "      <td>1</td>\n",
       "      <td>0</td>\n",
       "      <td>...</td>\n",
       "      <td>1</td>\n",
       "      <td>0</td>\n",
       "      <td>1</td>\n",
       "      <td>0</td>\n",
       "      <td>1</td>\n",
       "      <td>0</td>\n",
       "      <td>1</td>\n",
       "      <td>0</td>\n",
       "      <td>1</td>\n",
       "      <td>0</td>\n",
       "    </tr>\n",
       "    <tr>\n",
       "      <th>131</th>\n",
       "      <td>6.0</td>\n",
       "      <td>46.02</td>\n",
       "      <td>1</td>\n",
       "      <td>0</td>\n",
       "      <td>1</td>\n",
       "      <td>0</td>\n",
       "      <td>1</td>\n",
       "      <td>0</td>\n",
       "      <td>1</td>\n",
       "      <td>0</td>\n",
       "      <td>...</td>\n",
       "      <td>1</td>\n",
       "      <td>0</td>\n",
       "      <td>1</td>\n",
       "      <td>0</td>\n",
       "      <td>1</td>\n",
       "      <td>0</td>\n",
       "      <td>1</td>\n",
       "      <td>0</td>\n",
       "      <td>1</td>\n",
       "      <td>0</td>\n",
       "    </tr>\n",
       "    <tr>\n",
       "      <th>147</th>\n",
       "      <td>26.0</td>\n",
       "      <td>46.02</td>\n",
       "      <td>1</td>\n",
       "      <td>0</td>\n",
       "      <td>1</td>\n",
       "      <td>0</td>\n",
       "      <td>1</td>\n",
       "      <td>0</td>\n",
       "      <td>1</td>\n",
       "      <td>0</td>\n",
       "      <td>...</td>\n",
       "      <td>1</td>\n",
       "      <td>0</td>\n",
       "      <td>1</td>\n",
       "      <td>0</td>\n",
       "      <td>1</td>\n",
       "      <td>0</td>\n",
       "      <td>1</td>\n",
       "      <td>0</td>\n",
       "      <td>1</td>\n",
       "      <td>0</td>\n",
       "    </tr>\n",
       "    <tr>\n",
       "      <th>180</th>\n",
       "      <td>35.0</td>\n",
       "      <td>46.02</td>\n",
       "      <td>1</td>\n",
       "      <td>0</td>\n",
       "      <td>1</td>\n",
       "      <td>0</td>\n",
       "      <td>1</td>\n",
       "      <td>0</td>\n",
       "      <td>1</td>\n",
       "      <td>0</td>\n",
       "      <td>...</td>\n",
       "      <td>1</td>\n",
       "      <td>0</td>\n",
       "      <td>1</td>\n",
       "      <td>0</td>\n",
       "      <td>1</td>\n",
       "      <td>0</td>\n",
       "      <td>1</td>\n",
       "      <td>0</td>\n",
       "      <td>1</td>\n",
       "      <td>0</td>\n",
       "    </tr>\n",
       "    <tr>\n",
       "      <th>204</th>\n",
       "      <td>6.0</td>\n",
       "      <td>46.02</td>\n",
       "      <td>1</td>\n",
       "      <td>0</td>\n",
       "      <td>1</td>\n",
       "      <td>0</td>\n",
       "      <td>1</td>\n",
       "      <td>0</td>\n",
       "      <td>1</td>\n",
       "      <td>0</td>\n",
       "      <td>...</td>\n",
       "      <td>1</td>\n",
       "      <td>0</td>\n",
       "      <td>1</td>\n",
       "      <td>0</td>\n",
       "      <td>1</td>\n",
       "      <td>0</td>\n",
       "      <td>1</td>\n",
       "      <td>0</td>\n",
       "      <td>1</td>\n",
       "      <td>0</td>\n",
       "    </tr>\n",
       "  </tbody>\n",
       "</table>\n",
       "<p>5 rows × 28 columns</p>\n",
       "</div>"
      ],
      "text/plain": [
       "     unit_sales  dcoilwtico  month_07  month_08  month_07  month_08  month_07  \\\n",
       "112         4.0       46.02         1         0         1         0         1   \n",
       "131         6.0       46.02         1         0         1         0         1   \n",
       "147        26.0       46.02         1         0         1         0         1   \n",
       "180        35.0       46.02         1         0         1         0         1   \n",
       "204         6.0       46.02         1         0         1         0         1   \n",
       "\n",
       "     month_08  month_07  month_08  ...  month_07  month_08  month_07  \\\n",
       "112         0         1         0  ...         1         0         1   \n",
       "131         0         1         0  ...         1         0         1   \n",
       "147         0         1         0  ...         1         0         1   \n",
       "180         0         1         0  ...         1         0         1   \n",
       "204         0         1         0  ...         1         0         1   \n",
       "\n",
       "     month_08  month_07  month_08  month_07  month_08  month_07  month_08  \n",
       "112         0         1         0         1         0         1         0  \n",
       "131         0         1         0         1         0         1         0  \n",
       "147         0         1         0         1         0         1         0  \n",
       "180         0         1         0         1         0         1         0  \n",
       "204         0         1         0         1         0         1         0  \n",
       "\n",
       "[5 rows x 28 columns]"
      ]
     },
     "execution_count": 138,
     "metadata": {},
     "output_type": "execute_result"
    }
   ],
   "source": [
    "Salesdf_filtered.head()"
   ]
  },
  {
   "cell_type": "markdown",
   "metadata": {},
   "source": [
    "# The above dataframe contains data after the one hot encoding technique is applied to the data."
   ]
  },
  {
   "cell_type": "code",
   "execution_count": 149,
   "metadata": {
    "tags": []
   },
   "outputs": [],
   "source": [
    "#Re-scale\n",
    "#We keep this value to re-scale the predicted unit_sales values in the following lines of code.\n",
    "min_train, max_train = Salesdf_filtered['unit_sales'].min(), Salesdf_filtered['unit_sales'].max()"
   ]
  },
  {
   "cell_type": "code",
   "execution_count": 150,
   "metadata": {
    "tags": []
   },
   "outputs": [],
   "source": [
    "scalable_variables = ['unit_sales','dcoilwtico']\n",
    "\n",
    "for var in scalable_variables:\n",
    "    mini, maxi = Salesdf_filtered[var].min(), Salesdf_filtered[var].max()\n",
    "    Salesdf_filtered.loc[:,var] = (Salesdf_filtered[var] - mini) / (maxi - mini)"
   ]
  },
  {
   "cell_type": "code",
   "execution_count": 151,
   "metadata": {},
   "outputs": [
    {
     "name": "stdout",
     "output_type": "stream",
     "text": [
      "Shape :  (34207, 148)\n"
     ]
    },
    {
     "data": {
      "text/html": [
       "<div>\n",
       "<style scoped>\n",
       "    .dataframe tbody tr th:only-of-type {\n",
       "        vertical-align: middle;\n",
       "    }\n",
       "\n",
       "    .dataframe tbody tr th {\n",
       "        vertical-align: top;\n",
       "    }\n",
       "\n",
       "    .dataframe thead th {\n",
       "        text-align: right;\n",
       "    }\n",
       "</style>\n",
       "<table border=\"1\" class=\"dataframe\">\n",
       "  <thead>\n",
       "    <tr style=\"text-align: right;\">\n",
       "      <th></th>\n",
       "      <th>unit_sales</th>\n",
       "      <th>dcoilwtico</th>\n",
       "      <th>onpromotion_False</th>\n",
       "      <th>onpromotion_True</th>\n",
       "      <th>city_Ambato</th>\n",
       "      <th>city_Babahoyo</th>\n",
       "      <th>city_Cayambe</th>\n",
       "      <th>city_Cuenca</th>\n",
       "      <th>city_Daule</th>\n",
       "      <th>city_El Carmen</th>\n",
       "      <th>...</th>\n",
       "      <th>transferred_no_holyday</th>\n",
       "      <th>month_07</th>\n",
       "      <th>month_08</th>\n",
       "      <th>day_Friday</th>\n",
       "      <th>day_Monday</th>\n",
       "      <th>day_Saturday</th>\n",
       "      <th>day_Sunday</th>\n",
       "      <th>day_Thursday</th>\n",
       "      <th>day_Tuesday</th>\n",
       "      <th>day_Wednesday</th>\n",
       "    </tr>\n",
       "  </thead>\n",
       "  <tbody>\n",
       "    <tr>\n",
       "      <th>2467667</th>\n",
       "      <td>0.010460</td>\n",
       "      <td>0.810384</td>\n",
       "      <td>1</td>\n",
       "      <td>0</td>\n",
       "      <td>0</td>\n",
       "      <td>0</td>\n",
       "      <td>0</td>\n",
       "      <td>0</td>\n",
       "      <td>0</td>\n",
       "      <td>0</td>\n",
       "      <td>...</td>\n",
       "      <td>1</td>\n",
       "      <td>0</td>\n",
       "      <td>1</td>\n",
       "      <td>0</td>\n",
       "      <td>1</td>\n",
       "      <td>0</td>\n",
       "      <td>0</td>\n",
       "      <td>0</td>\n",
       "      <td>0</td>\n",
       "      <td>0</td>\n",
       "    </tr>\n",
       "    <tr>\n",
       "      <th>1962998</th>\n",
       "      <td>0.007845</td>\n",
       "      <td>0.862302</td>\n",
       "      <td>1</td>\n",
       "      <td>0</td>\n",
       "      <td>0</td>\n",
       "      <td>0</td>\n",
       "      <td>0</td>\n",
       "      <td>0</td>\n",
       "      <td>0</td>\n",
       "      <td>0</td>\n",
       "      <td>...</td>\n",
       "      <td>1</td>\n",
       "      <td>0</td>\n",
       "      <td>1</td>\n",
       "      <td>0</td>\n",
       "      <td>0</td>\n",
       "      <td>0</td>\n",
       "      <td>0</td>\n",
       "      <td>0</td>\n",
       "      <td>0</td>\n",
       "      <td>1</td>\n",
       "    </tr>\n",
       "    <tr>\n",
       "      <th>2039442</th>\n",
       "      <td>0.006276</td>\n",
       "      <td>0.733634</td>\n",
       "      <td>1</td>\n",
       "      <td>0</td>\n",
       "      <td>0</td>\n",
       "      <td>0</td>\n",
       "      <td>0</td>\n",
       "      <td>0</td>\n",
       "      <td>0</td>\n",
       "      <td>0</td>\n",
       "      <td>...</td>\n",
       "      <td>1</td>\n",
       "      <td>0</td>\n",
       "      <td>1</td>\n",
       "      <td>0</td>\n",
       "      <td>0</td>\n",
       "      <td>0</td>\n",
       "      <td>0</td>\n",
       "      <td>1</td>\n",
       "      <td>0</td>\n",
       "      <td>0</td>\n",
       "    </tr>\n",
       "    <tr>\n",
       "      <th>2980557</th>\n",
       "      <td>0.031381</td>\n",
       "      <td>0.546275</td>\n",
       "      <td>0</td>\n",
       "      <td>1</td>\n",
       "      <td>0</td>\n",
       "      <td>0</td>\n",
       "      <td>0</td>\n",
       "      <td>0</td>\n",
       "      <td>0</td>\n",
       "      <td>0</td>\n",
       "      <td>...</td>\n",
       "      <td>1</td>\n",
       "      <td>0</td>\n",
       "      <td>1</td>\n",
       "      <td>0</td>\n",
       "      <td>0</td>\n",
       "      <td>1</td>\n",
       "      <td>0</td>\n",
       "      <td>0</td>\n",
       "      <td>0</td>\n",
       "      <td>0</td>\n",
       "    </tr>\n",
       "    <tr>\n",
       "      <th>2612275</th>\n",
       "      <td>0.008368</td>\n",
       "      <td>0.742664</td>\n",
       "      <td>1</td>\n",
       "      <td>0</td>\n",
       "      <td>0</td>\n",
       "      <td>0</td>\n",
       "      <td>0</td>\n",
       "      <td>0</td>\n",
       "      <td>0</td>\n",
       "      <td>0</td>\n",
       "      <td>...</td>\n",
       "      <td>1</td>\n",
       "      <td>0</td>\n",
       "      <td>1</td>\n",
       "      <td>0</td>\n",
       "      <td>0</td>\n",
       "      <td>0</td>\n",
       "      <td>0</td>\n",
       "      <td>0</td>\n",
       "      <td>1</td>\n",
       "      <td>0</td>\n",
       "    </tr>\n",
       "    <tr>\n",
       "      <th>250892</th>\n",
       "      <td>0.026151</td>\n",
       "      <td>0.054176</td>\n",
       "      <td>1</td>\n",
       "      <td>0</td>\n",
       "      <td>0</td>\n",
       "      <td>0</td>\n",
       "      <td>0</td>\n",
       "      <td>0</td>\n",
       "      <td>0</td>\n",
       "      <td>0</td>\n",
       "      <td>...</td>\n",
       "      <td>1</td>\n",
       "      <td>1</td>\n",
       "      <td>0</td>\n",
       "      <td>0</td>\n",
       "      <td>1</td>\n",
       "      <td>0</td>\n",
       "      <td>0</td>\n",
       "      <td>0</td>\n",
       "      <td>0</td>\n",
       "      <td>0</td>\n",
       "    </tr>\n",
       "    <tr>\n",
       "      <th>3082957</th>\n",
       "      <td>0.008368</td>\n",
       "      <td>0.477427</td>\n",
       "      <td>1</td>\n",
       "      <td>0</td>\n",
       "      <td>0</td>\n",
       "      <td>0</td>\n",
       "      <td>0</td>\n",
       "      <td>0</td>\n",
       "      <td>0</td>\n",
       "      <td>0</td>\n",
       "      <td>...</td>\n",
       "      <td>1</td>\n",
       "      <td>0</td>\n",
       "      <td>1</td>\n",
       "      <td>0</td>\n",
       "      <td>0</td>\n",
       "      <td>0</td>\n",
       "      <td>1</td>\n",
       "      <td>0</td>\n",
       "      <td>0</td>\n",
       "      <td>0</td>\n",
       "    </tr>\n",
       "    <tr>\n",
       "      <th>1273837</th>\n",
       "      <td>0.006799</td>\n",
       "      <td>0.738149</td>\n",
       "      <td>1</td>\n",
       "      <td>0</td>\n",
       "      <td>0</td>\n",
       "      <td>0</td>\n",
       "      <td>0</td>\n",
       "      <td>0</td>\n",
       "      <td>0</td>\n",
       "      <td>0</td>\n",
       "      <td>...</td>\n",
       "      <td>1</td>\n",
       "      <td>1</td>\n",
       "      <td>0</td>\n",
       "      <td>0</td>\n",
       "      <td>0</td>\n",
       "      <td>0</td>\n",
       "      <td>0</td>\n",
       "      <td>1</td>\n",
       "      <td>0</td>\n",
       "      <td>0</td>\n",
       "    </tr>\n",
       "    <tr>\n",
       "      <th>1380011</th>\n",
       "      <td>0.009937</td>\n",
       "      <td>0.889391</td>\n",
       "      <td>1</td>\n",
       "      <td>0</td>\n",
       "      <td>0</td>\n",
       "      <td>0</td>\n",
       "      <td>0</td>\n",
       "      <td>0</td>\n",
       "      <td>0</td>\n",
       "      <td>0</td>\n",
       "      <td>...</td>\n",
       "      <td>1</td>\n",
       "      <td>1</td>\n",
       "      <td>0</td>\n",
       "      <td>1</td>\n",
       "      <td>0</td>\n",
       "      <td>0</td>\n",
       "      <td>0</td>\n",
       "      <td>0</td>\n",
       "      <td>0</td>\n",
       "      <td>0</td>\n",
       "    </tr>\n",
       "    <tr>\n",
       "      <th>1698474</th>\n",
       "      <td>0.008368</td>\n",
       "      <td>1.000000</td>\n",
       "      <td>1</td>\n",
       "      <td>0</td>\n",
       "      <td>0</td>\n",
       "      <td>0</td>\n",
       "      <td>0</td>\n",
       "      <td>0</td>\n",
       "      <td>0</td>\n",
       "      <td>0</td>\n",
       "      <td>...</td>\n",
       "      <td>1</td>\n",
       "      <td>1</td>\n",
       "      <td>0</td>\n",
       "      <td>0</td>\n",
       "      <td>1</td>\n",
       "      <td>0</td>\n",
       "      <td>0</td>\n",
       "      <td>0</td>\n",
       "      <td>0</td>\n",
       "      <td>0</td>\n",
       "    </tr>\n",
       "  </tbody>\n",
       "</table>\n",
       "<p>10 rows × 148 columns</p>\n",
       "</div>"
      ],
      "text/plain": [
       "         unit_sales  dcoilwtico  onpromotion_False  onpromotion_True  \\\n",
       "2467667    0.010460    0.810384                  1                 0   \n",
       "1962998    0.007845    0.862302                  1                 0   \n",
       "2039442    0.006276    0.733634                  1                 0   \n",
       "2980557    0.031381    0.546275                  0                 1   \n",
       "2612275    0.008368    0.742664                  1                 0   \n",
       "250892     0.026151    0.054176                  1                 0   \n",
       "3082957    0.008368    0.477427                  1                 0   \n",
       "1273837    0.006799    0.738149                  1                 0   \n",
       "1380011    0.009937    0.889391                  1                 0   \n",
       "1698474    0.008368    1.000000                  1                 0   \n",
       "\n",
       "         city_Ambato  city_Babahoyo  city_Cayambe  city_Cuenca  city_Daule  \\\n",
       "2467667            0              0             0            0           0   \n",
       "1962998            0              0             0            0           0   \n",
       "2039442            0              0             0            0           0   \n",
       "2980557            0              0             0            0           0   \n",
       "2612275            0              0             0            0           0   \n",
       "250892             0              0             0            0           0   \n",
       "3082957            0              0             0            0           0   \n",
       "1273837            0              0             0            0           0   \n",
       "1380011            0              0             0            0           0   \n",
       "1698474            0              0             0            0           0   \n",
       "\n",
       "         city_El Carmen  ...  transferred_no_holyday  month_07  month_08  \\\n",
       "2467667               0  ...                       1         0         1   \n",
       "1962998               0  ...                       1         0         1   \n",
       "2039442               0  ...                       1         0         1   \n",
       "2980557               0  ...                       1         0         1   \n",
       "2612275               0  ...                       1         0         1   \n",
       "250892                0  ...                       1         1         0   \n",
       "3082957               0  ...                       1         0         1   \n",
       "1273837               0  ...                       1         1         0   \n",
       "1380011               0  ...                       1         1         0   \n",
       "1698474               0  ...                       1         1         0   \n",
       "\n",
       "         day_Friday  day_Monday  day_Saturday  day_Sunday  day_Thursday  \\\n",
       "2467667           0           1             0           0             0   \n",
       "1962998           0           0             0           0             0   \n",
       "2039442           0           0             0           0             1   \n",
       "2980557           0           0             1           0             0   \n",
       "2612275           0           0             0           0             0   \n",
       "250892            0           1             0           0             0   \n",
       "3082957           0           0             0           1             0   \n",
       "1273837           0           0             0           0             1   \n",
       "1380011           1           0             0           0             0   \n",
       "1698474           0           1             0           0             0   \n",
       "\n",
       "         day_Tuesday  day_Wednesday  \n",
       "2467667            0              0  \n",
       "1962998            0              1  \n",
       "2039442            0              0  \n",
       "2980557            0              0  \n",
       "2612275            1              0  \n",
       "250892             0              0  \n",
       "3082957            0              0  \n",
       "1273837            0              0  \n",
       "1380011            0              0  \n",
       "1698474            0              0  \n",
       "\n",
       "[10 rows x 148 columns]"
      ]
     },
     "execution_count": 151,
     "metadata": {},
     "output_type": "execute_result"
    }
   ],
   "source": [
    "print('Shape : ', Salesdf_filtered.shape)\n",
    "Salesdf_filtered.sample(10)"
   ]
  },
  {
   "cell_type": "code",
   "execution_count": 152,
   "metadata": {},
   "outputs": [
    {
     "data": {
      "text/plain": [
       "unit_sales           0\n",
       "dcoilwtico           0\n",
       "onpromotion_False    0\n",
       "onpromotion_True     0\n",
       "city_Ambato          0\n",
       "                    ..\n",
       "day_Saturday         0\n",
       "day_Sunday           0\n",
       "day_Thursday         0\n",
       "day_Tuesday          0\n",
       "day_Wednesday        0\n",
       "Length: 148, dtype: int64"
      ]
     },
     "execution_count": 152,
     "metadata": {},
     "output_type": "execute_result"
    }
   ],
   "source": [
    "Salesdf_filtered.isnull().sum()"
   ]
  },
  {
   "cell_type": "code",
   "execution_count": 153,
   "metadata": {},
   "outputs": [
    {
     "name": "stdout",
     "output_type": "stream",
     "text": [
      "Shape X : (34207, 147)\n",
      "Shape y : (34207,)\n"
     ]
    }
   ],
   "source": [
    "#train database without unit_sales\n",
    "Salesdf_filtered = Salesdf_filtered.reset_index(drop=True)  #we reset the index\n",
    "y = Salesdf_filtered['unit_sales']\n",
    "X = Salesdf_filtered.drop(['unit_sales'], axis = 1)\n",
    "\n",
    "print('Shape X :', X.shape)\n",
    "print('Shape y :', y.shape)"
   ]
  },
  {
   "cell_type": "code",
   "execution_count": 154,
   "metadata": {},
   "outputs": [
    {
     "name": "stdout",
     "output_type": "stream",
     "text": [
      "X_train shape : (27365, 147)\n",
      "y_train shape : (27365,)\n",
      "X_test shape : (6842, 147)\n",
      "y_test shape : (6842,)\n"
     ]
    }
   ],
   "source": [
    "num_test = 0.20\n",
    "X_train, X_test, y_train, y_test = train_test_split(X, y, test_size=num_test, random_state=15)\n",
    "print('X_train shape :', X_train.shape)\n",
    "print('y_train shape :', y_train.shape)\n",
    "print('X_test shape :', X_test.shape)\n",
    "print('y_test shape :', y_test.shape)"
   ]
  },
  {
   "cell_type": "markdown",
   "metadata": {},
   "source": [
    "# 9. Regression Model fitting techniques."
   ]
  },
  {
   "cell_type": "markdown",
   "metadata": {},
   "source": [
    "# 9.a. Linear Regression"
   ]
  },
  {
   "cell_type": "markdown",
   "metadata": {},
   "source": [
    "## Linear Regression\n",
    "\n",
    "Linear Regression is a linear approach for modelling the relationship between a scalar dependent variable y and one or more explanatory variables (or independent variables) denoted X. The case of one explanatory variable is called simple linear regression. For more than one explanatory variable, the process is called multiple linear regression.\n",
    "\n",
    "Linear regression models are often fitted using the least squares approach, but they may also be fitted in other ways, such as by minimizing the \"lack of fit\" in some other norm (as with least absolute deviations regression), or by minimizing a penalized version of the least squares cost function as in ridge regression (L2-norm penalty) and lasso (L1-norm penalty). \n",
    "\n",
    "\n",
    "## The text in the document by Source Wikipedia is licensed under CC BY 3.0 https://creativecommons.org/licenses/by/3.0/us/"
   ]
  },
  {
   "cell_type": "code",
   "execution_count": 167,
   "metadata": {},
   "outputs": [
    {
     "name": "stdout",
     "output_type": "stream",
     "text": [
      "LinearRegression()\n"
     ]
    }
   ],
   "source": [
    "# Fit the linear model\n",
    "model = linear_model.LinearRegression()\n",
    "results = model.fit(X_train, y_train)\n",
    "print(results)"
   ]
  },
  {
   "cell_type": "code",
   "execution_count": 169,
   "metadata": {},
   "outputs": [
    {
     "name": "stdout",
     "output_type": "stream",
     "text": [
      "R-squared: 0.36549709170781475\n"
     ]
    }
   ],
   "source": [
    "print(\"R-squared:\",results.score(X_train,y_train))"
   ]
  },
  {
   "cell_type": "code",
   "execution_count": 170,
   "metadata": {
    "scrolled": true
   },
   "outputs": [
    {
     "data": {
      "text/html": [
       "<table class=\"simpletable\">\n",
       "<caption>OLS Regression Results</caption>\n",
       "<tr>\n",
       "  <th>Dep. Variable:</th>       <td>unit_sales</td>    <th>  R-squared:         </th>  <td>   0.366</td> \n",
       "</tr>\n",
       "<tr>\n",
       "  <th>Model:</th>                   <td>OLS</td>       <th>  Adj. R-squared:    </th>  <td>   0.364</td> \n",
       "</tr>\n",
       "<tr>\n",
       "  <th>Method:</th>             <td>Least Squares</td>  <th>  F-statistic:       </th>  <td>   184.9</td> \n",
       "</tr>\n",
       "<tr>\n",
       "  <th>Date:</th>             <td>Thu, 11 Aug 2022</td> <th>  Prob (F-statistic):</th>   <td>  0.00</td>  \n",
       "</tr>\n",
       "<tr>\n",
       "  <th>Time:</th>                 <td>17:16:43</td>     <th>  Log-Likelihood:    </th>  <td>  65919.</td> \n",
       "</tr>\n",
       "<tr>\n",
       "  <th>No. Observations:</th>      <td> 27365</td>      <th>  AIC:               </th> <td>-1.317e+05</td>\n",
       "</tr>\n",
       "<tr>\n",
       "  <th>Df Residuals:</th>          <td> 27279</td>      <th>  BIC:               </th> <td>-1.310e+05</td>\n",
       "</tr>\n",
       "<tr>\n",
       "  <th>Df Model:</th>              <td>    85</td>      <th>                     </th>      <td> </td>    \n",
       "</tr>\n",
       "<tr>\n",
       "  <th>Covariance Type:</th>      <td>nonrobust</td>    <th>                     </th>      <td> </td>    \n",
       "</tr>\n",
       "</table>\n",
       "<table class=\"simpletable\">\n",
       "<tr>\n",
       "             <td></td>               <th>coef</th>     <th>std err</th>      <th>t</th>      <th>P>|t|</th>  <th>[0.025</th>    <th>0.975]</th>  \n",
       "</tr>\n",
       "<tr>\n",
       "  <th>dcoilwtico</th>             <td>    0.0071</td> <td>    0.000</td> <td>   15.162</td> <td> 0.000</td> <td>    0.006</td> <td>    0.008</td>\n",
       "</tr>\n",
       "<tr>\n",
       "  <th>onpromotion_False</th>      <td>   -0.0035</td> <td>    0.000</td> <td>  -15.174</td> <td> 0.000</td> <td>   -0.004</td> <td>   -0.003</td>\n",
       "</tr>\n",
       "<tr>\n",
       "  <th>onpromotion_True</th>       <td>    0.0104</td> <td>    0.000</td> <td>   35.778</td> <td> 0.000</td> <td>    0.010</td> <td>    0.011</td>\n",
       "</tr>\n",
       "<tr>\n",
       "  <th>city_Ambato</th>            <td>   -0.0006</td> <td>    0.000</td> <td>   -1.443</td> <td> 0.149</td> <td>   -0.001</td> <td>    0.000</td>\n",
       "</tr>\n",
       "<tr>\n",
       "  <th>city_Babahoyo</th>          <td>    0.0011</td> <td>    0.000</td> <td>    3.107</td> <td> 0.002</td> <td>    0.000</td> <td>    0.002</td>\n",
       "</tr>\n",
       "<tr>\n",
       "  <th>city_Cayambe</th>           <td>    0.0024</td> <td>    0.000</td> <td>    5.286</td> <td> 0.000</td> <td>    0.002</td> <td>    0.003</td>\n",
       "</tr>\n",
       "<tr>\n",
       "  <th>city_Cuenca</th>            <td>    0.0013</td> <td>    0.000</td> <td>    3.340</td> <td> 0.001</td> <td>    0.001</td> <td>    0.002</td>\n",
       "</tr>\n",
       "<tr>\n",
       "  <th>city_Daule</th>             <td>    0.0009</td> <td>    0.000</td> <td>    2.143</td> <td> 0.032</td> <td> 8.01e-05</td> <td>    0.002</td>\n",
       "</tr>\n",
       "<tr>\n",
       "  <th>city_El Carmen</th>         <td>    0.0017</td> <td>    0.000</td> <td>    3.584</td> <td> 0.000</td> <td>    0.001</td> <td>    0.003</td>\n",
       "</tr>\n",
       "<tr>\n",
       "  <th>city_Esmeraldas</th>        <td>    0.0003</td> <td>    0.000</td> <td>    0.728</td> <td> 0.467</td> <td>   -0.001</td> <td>    0.001</td>\n",
       "</tr>\n",
       "<tr>\n",
       "  <th>city_Guaranda</th>          <td>    0.0015</td> <td>    0.000</td> <td>    3.531</td> <td> 0.000</td> <td>    0.001</td> <td>    0.002</td>\n",
       "</tr>\n",
       "<tr>\n",
       "  <th>city_Guayaquil</th>         <td>   -0.0032</td> <td>    0.000</td> <td>   -9.759</td> <td> 0.000</td> <td>   -0.004</td> <td>   -0.003</td>\n",
       "</tr>\n",
       "<tr>\n",
       "  <th>city_Ibarra</th>            <td>   -0.0002</td> <td>    0.000</td> <td>   -0.366</td> <td> 0.714</td> <td>   -0.001</td> <td>    0.001</td>\n",
       "</tr>\n",
       "<tr>\n",
       "  <th>city_Latacunga</th>         <td>    0.0013</td> <td>    0.000</td> <td>    2.970</td> <td> 0.003</td> <td>    0.000</td> <td>    0.002</td>\n",
       "</tr>\n",
       "<tr>\n",
       "  <th>city_Libertad</th>          <td>   -0.0019</td> <td>    0.000</td> <td>   -4.277</td> <td> 0.000</td> <td>   -0.003</td> <td>   -0.001</td>\n",
       "</tr>\n",
       "<tr>\n",
       "  <th>city_Loja</th>              <td>    0.0017</td> <td>    0.000</td> <td>    4.037</td> <td> 0.000</td> <td>    0.001</td> <td>    0.003</td>\n",
       "</tr>\n",
       "<tr>\n",
       "  <th>city_Machala</th>           <td>    0.0042</td> <td>    0.000</td> <td>    9.692</td> <td> 0.000</td> <td>    0.003</td> <td>    0.005</td>\n",
       "</tr>\n",
       "<tr>\n",
       "  <th>city_Manta</th>             <td>   -0.0016</td> <td>    0.000</td> <td>   -3.789</td> <td> 0.000</td> <td>   -0.002</td> <td>   -0.001</td>\n",
       "</tr>\n",
       "<tr>\n",
       "  <th>city_Playas</th>            <td>   -0.0026</td> <td>    0.000</td> <td>   -5.478</td> <td> 0.000</td> <td>   -0.003</td> <td>   -0.002</td>\n",
       "</tr>\n",
       "<tr>\n",
       "  <th>city_Puyo</th>              <td>   -0.0004</td> <td>    0.000</td> <td>   -1.016</td> <td> 0.310</td> <td>   -0.001</td> <td>    0.000</td>\n",
       "</tr>\n",
       "<tr>\n",
       "  <th>city_Quevedo</th>           <td>    0.0001</td> <td>    0.000</td> <td>    0.276</td> <td> 0.783</td> <td>   -0.001</td> <td>    0.001</td>\n",
       "</tr>\n",
       "<tr>\n",
       "  <th>city_Quito</th>             <td>    0.0045</td> <td>    0.000</td> <td>   16.646</td> <td> 0.000</td> <td>    0.004</td> <td>    0.005</td>\n",
       "</tr>\n",
       "<tr>\n",
       "  <th>city_Riobamba</th>          <td>    0.0001</td> <td>    0.000</td> <td>    0.341</td> <td> 0.733</td> <td>   -0.001</td> <td>    0.001</td>\n",
       "</tr>\n",
       "<tr>\n",
       "  <th>city_Salinas</th>           <td>   -0.0035</td> <td>    0.000</td> <td>   -7.936</td> <td> 0.000</td> <td>   -0.004</td> <td>   -0.003</td>\n",
       "</tr>\n",
       "<tr>\n",
       "  <th>city_Santo Domingo</th>     <td>   -0.0004</td> <td>    0.000</td> <td>   -1.021</td> <td> 0.307</td> <td>   -0.001</td> <td>    0.000</td>\n",
       "</tr>\n",
       "<tr>\n",
       "  <th>type_x_A</th>               <td>    0.0117</td> <td>    0.000</td> <td>   49.826</td> <td> 0.000</td> <td>    0.011</td> <td>    0.012</td>\n",
       "</tr>\n",
       "<tr>\n",
       "  <th>type_x_B</th>               <td>   -0.0014</td> <td>    0.000</td> <td>   -5.849</td> <td> 0.000</td> <td>   -0.002</td> <td>   -0.001</td>\n",
       "</tr>\n",
       "<tr>\n",
       "  <th>type_x_C</th>               <td>   -0.0039</td> <td>    0.000</td> <td>  -19.342</td> <td> 0.000</td> <td>   -0.004</td> <td>   -0.004</td>\n",
       "</tr>\n",
       "<tr>\n",
       "  <th>type_x_D</th>               <td>   -0.0010</td> <td>    0.000</td> <td>   -4.565</td> <td> 0.000</td> <td>   -0.001</td> <td>   -0.001</td>\n",
       "</tr>\n",
       "<tr>\n",
       "  <th>type_x_E</th>               <td>    0.0016</td> <td>    0.000</td> <td>    4.720</td> <td> 0.000</td> <td>    0.001</td> <td>    0.002</td>\n",
       "</tr>\n",
       "<tr>\n",
       "  <th>cluster_1</th>              <td>    0.0017</td> <td>    0.000</td> <td>    4.501</td> <td> 0.000</td> <td>    0.001</td> <td>    0.002</td>\n",
       "</tr>\n",
       "<tr>\n",
       "  <th>cluster_2</th>              <td>    0.0003</td> <td>    0.000</td> <td>    0.873</td> <td> 0.383</td> <td>   -0.000</td> <td>    0.001</td>\n",
       "</tr>\n",
       "<tr>\n",
       "  <th>cluster_3</th>              <td>   -0.0011</td> <td>    0.000</td> <td>   -3.774</td> <td> 0.000</td> <td>   -0.002</td> <td>   -0.001</td>\n",
       "</tr>\n",
       "<tr>\n",
       "  <th>cluster_4</th>              <td>    0.0002</td> <td>    0.000</td> <td>    0.615</td> <td> 0.539</td> <td>   -0.001</td> <td>    0.001</td>\n",
       "</tr>\n",
       "<tr>\n",
       "  <th>cluster_5</th>              <td>    0.0060</td> <td>    0.000</td> <td>   14.024</td> <td> 0.000</td> <td>    0.005</td> <td>    0.007</td>\n",
       "</tr>\n",
       "<tr>\n",
       "  <th>cluster_6</th>              <td>    0.0020</td> <td>    0.000</td> <td>    6.583</td> <td> 0.000</td> <td>    0.001</td> <td>    0.003</td>\n",
       "</tr>\n",
       "<tr>\n",
       "  <th>cluster_7</th>              <td>   -0.0003</td> <td>    0.000</td> <td>   -0.846</td> <td> 0.398</td> <td>   -0.001</td> <td>    0.000</td>\n",
       "</tr>\n",
       "<tr>\n",
       "  <th>cluster_8</th>              <td>    0.0050</td> <td>    0.000</td> <td>   12.738</td> <td> 0.000</td> <td>    0.004</td> <td>    0.006</td>\n",
       "</tr>\n",
       "<tr>\n",
       "  <th>cluster_9</th>              <td>   -0.0024</td> <td>    0.000</td> <td>   -5.712</td> <td> 0.000</td> <td>   -0.003</td> <td>   -0.002</td>\n",
       "</tr>\n",
       "<tr>\n",
       "  <th>cluster_10</th>             <td>   -0.0009</td> <td>    0.000</td> <td>   -2.595</td> <td> 0.009</td> <td>   -0.002</td> <td>   -0.000</td>\n",
       "</tr>\n",
       "<tr>\n",
       "  <th>cluster_11</th>             <td>    0.0032</td> <td>    0.000</td> <td>    8.556</td> <td> 0.000</td> <td>    0.002</td> <td>    0.004</td>\n",
       "</tr>\n",
       "<tr>\n",
       "  <th>cluster_12</th>             <td> 5.906e-05</td> <td>    0.000</td> <td>    0.144</td> <td> 0.886</td> <td>   -0.001</td> <td>    0.001</td>\n",
       "</tr>\n",
       "<tr>\n",
       "  <th>cluster_13</th>             <td>   -0.0023</td> <td>    0.000</td> <td>   -6.283</td> <td> 0.000</td> <td>   -0.003</td> <td>   -0.002</td>\n",
       "</tr>\n",
       "<tr>\n",
       "  <th>cluster_14</th>             <td>    0.0041</td> <td>    0.000</td> <td>   11.662</td> <td> 0.000</td> <td>    0.003</td> <td>    0.005</td>\n",
       "</tr>\n",
       "<tr>\n",
       "  <th>cluster_15</th>             <td>   -0.0026</td> <td>    0.000</td> <td>   -8.436</td> <td> 0.000</td> <td>   -0.003</td> <td>   -0.002</td>\n",
       "</tr>\n",
       "<tr>\n",
       "  <th>cluster_16</th>             <td>   -0.0046</td> <td>    0.000</td> <td>  -11.586</td> <td> 0.000</td> <td>   -0.005</td> <td>   -0.004</td>\n",
       "</tr>\n",
       "<tr>\n",
       "  <th>cluster_17</th>             <td>   -0.0016</td> <td>    0.000</td> <td>   -3.982</td> <td> 0.000</td> <td>   -0.002</td> <td>   -0.001</td>\n",
       "</tr>\n",
       "<tr>\n",
       "  <th>store_nbr_1</th>            <td>   -0.0077</td> <td>    0.001</td> <td>   -9.182</td> <td> 0.000</td> <td>   -0.009</td> <td>   -0.006</td>\n",
       "</tr>\n",
       "<tr>\n",
       "  <th>store_nbr_2</th>            <td>   -0.0018</td> <td>    0.001</td> <td>   -2.187</td> <td> 0.029</td> <td>   -0.003</td> <td>   -0.000</td>\n",
       "</tr>\n",
       "<tr>\n",
       "  <th>store_nbr_3</th>            <td>    0.0156</td> <td>    0.001</td> <td>   19.411</td> <td> 0.000</td> <td>    0.014</td> <td>    0.017</td>\n",
       "</tr>\n",
       "<tr>\n",
       "  <th>store_nbr_4</th>            <td>   -0.0011</td> <td>    0.001</td> <td>   -1.787</td> <td> 0.074</td> <td>   -0.002</td> <td>    0.000</td>\n",
       "</tr>\n",
       "<tr>\n",
       "  <th>store_nbr_5</th>            <td>   -0.0008</td> <td>    0.001</td> <td>   -1.356</td> <td> 0.175</td> <td>   -0.002</td> <td>    0.000</td>\n",
       "</tr>\n",
       "<tr>\n",
       "  <th>store_nbr_6</th>            <td>    0.0035</td> <td>    0.001</td> <td>    4.231</td> <td> 0.000</td> <td>    0.002</td> <td>    0.005</td>\n",
       "</tr>\n",
       "<tr>\n",
       "  <th>store_nbr_7</th>            <td>   -0.0061</td> <td>    0.001</td> <td>   -7.625</td> <td> 0.000</td> <td>   -0.008</td> <td>   -0.005</td>\n",
       "</tr>\n",
       "<tr>\n",
       "  <th>store_nbr_8</th>            <td>   -0.0044</td> <td>    0.001</td> <td>   -5.497</td> <td> 0.000</td> <td>   -0.006</td> <td>   -0.003</td>\n",
       "</tr>\n",
       "<tr>\n",
       "  <th>store_nbr_9</th>            <td>    0.0014</td> <td>    0.001</td> <td>    1.759</td> <td> 0.079</td> <td>   -0.000</td> <td>    0.003</td>\n",
       "</tr>\n",
       "<tr>\n",
       "  <th>store_nbr_10</th>           <td>   -0.0053</td> <td>    0.001</td> <td>   -7.870</td> <td> 0.000</td> <td>   -0.007</td> <td>   -0.004</td>\n",
       "</tr>\n",
       "<tr>\n",
       "  <th>store_nbr_11</th>           <td>    0.0024</td> <td>    0.000</td> <td>    5.286</td> <td> 0.000</td> <td>    0.002</td> <td>    0.003</td>\n",
       "</tr>\n",
       "<tr>\n",
       "  <th>store_nbr_12</th>           <td>    0.0010</td> <td>    0.001</td> <td>    1.459</td> <td> 0.145</td> <td>   -0.000</td> <td>    0.002</td>\n",
       "</tr>\n",
       "<tr>\n",
       "  <th>store_nbr_13</th>           <td>    0.0002</td> <td>    0.001</td> <td>    0.310</td> <td> 0.757</td> <td>   -0.001</td> <td>    0.002</td>\n",
       "</tr>\n",
       "<tr>\n",
       "  <th>store_nbr_14</th>           <td>    0.0001</td> <td>    0.000</td> <td>    0.341</td> <td> 0.733</td> <td>   -0.001</td> <td>    0.001</td>\n",
       "</tr>\n",
       "<tr>\n",
       "  <th>store_nbr_15</th>           <td>   -0.0002</td> <td>    0.000</td> <td>   -0.366</td> <td> 0.714</td> <td>   -0.001</td> <td>    0.001</td>\n",
       "</tr>\n",
       "<tr>\n",
       "  <th>store_nbr_16</th>           <td>   -0.0022</td> <td>    0.001</td> <td>   -3.094</td> <td> 0.002</td> <td>   -0.004</td> <td>   -0.001</td>\n",
       "</tr>\n",
       "<tr>\n",
       "  <th>store_nbr_17</th>           <td> 5.906e-05</td> <td>    0.000</td> <td>    0.144</td> <td> 0.886</td> <td>   -0.001</td> <td>    0.001</td>\n",
       "</tr>\n",
       "<tr>\n",
       "  <th>store_nbr_18</th>           <td>   -0.0046</td> <td>    0.000</td> <td>  -11.586</td> <td> 0.000</td> <td>   -0.005</td> <td>   -0.004</td>\n",
       "</tr>\n",
       "<tr>\n",
       "  <th>store_nbr_19</th>           <td>    0.0015</td> <td>    0.000</td> <td>    3.531</td> <td> 0.000</td> <td>    0.001</td> <td>    0.002</td>\n",
       "</tr>\n",
       "<tr>\n",
       "  <th>store_nbr_20</th>           <td>   -0.0030</td> <td>    0.001</td> <td>   -3.677</td> <td> 0.000</td> <td>   -0.005</td> <td>   -0.001</td>\n",
       "</tr>\n",
       "<tr>\n",
       "  <th>store_nbr_21</th>           <td>    0.0026</td> <td>    0.001</td> <td>    3.806</td> <td> 0.000</td> <td>    0.001</td> <td>    0.004</td>\n",
       "</tr>\n",
       "<tr>\n",
       "  <th>store_nbr_22</th>           <td>   -0.0004</td> <td>    0.000</td> <td>   -1.016</td> <td> 0.310</td> <td>   -0.001</td> <td>    0.000</td>\n",
       "</tr>\n",
       "<tr>\n",
       "  <th>store_nbr_23</th>           <td>   -0.0012</td> <td>    0.001</td> <td>   -2.129</td> <td> 0.033</td> <td>   -0.002</td> <td>-9.63e-05</td>\n",
       "</tr>\n",
       "<tr>\n",
       "  <th>store_nbr_24</th>           <td>    0.0042</td> <td>    0.001</td> <td>    6.635</td> <td> 0.000</td> <td>    0.003</td> <td>    0.005</td>\n",
       "</tr>\n",
       "<tr>\n",
       "  <th>store_nbr_25</th>           <td>   -0.0035</td> <td>    0.000</td> <td>   -7.936</td> <td> 0.000</td> <td>   -0.004</td> <td>   -0.003</td>\n",
       "</tr>\n",
       "<tr>\n",
       "  <th>store_nbr_26</th>           <td>   -0.0036</td> <td>    0.001</td> <td>   -6.013</td> <td> 0.000</td> <td>   -0.005</td> <td>   -0.002</td>\n",
       "</tr>\n",
       "<tr>\n",
       "  <th>store_nbr_27</th>           <td>    0.0009</td> <td>    0.000</td> <td>    2.143</td> <td> 0.032</td> <td> 8.01e-05</td> <td>    0.002</td>\n",
       "</tr>\n",
       "<tr>\n",
       "  <th>store_nbr_28</th>           <td>    0.0037</td> <td>    0.001</td> <td>    4.828</td> <td> 0.000</td> <td>    0.002</td> <td>    0.005</td>\n",
       "</tr>\n",
       "<tr>\n",
       "  <th>store_nbr_29</th>           <td>   -0.0004</td> <td>    0.001</td> <td>   -0.576</td> <td> 0.564</td> <td>   -0.002</td> <td>    0.001</td>\n",
       "</tr>\n",
       "<tr>\n",
       "  <th>store_nbr_30</th>           <td>   -0.0007</td> <td>    0.001</td> <td>   -0.883</td> <td> 0.377</td> <td>   -0.002</td> <td>    0.001</td>\n",
       "</tr>\n",
       "<tr>\n",
       "  <th>store_nbr_31</th>           <td>    0.0011</td> <td>    0.000</td> <td>    3.107</td> <td> 0.002</td> <td>    0.000</td> <td>    0.002</td>\n",
       "</tr>\n",
       "<tr>\n",
       "  <th>store_nbr_32</th>           <td>   -0.0023</td> <td>    0.001</td> <td>   -2.801</td> <td> 0.005</td> <td>   -0.004</td> <td>   -0.001</td>\n",
       "</tr>\n",
       "<tr>\n",
       "  <th>store_nbr_33</th>           <td>    0.0001</td> <td>    0.000</td> <td>    0.276</td> <td> 0.783</td> <td>   -0.001</td> <td>    0.001</td>\n",
       "</tr>\n",
       "<tr>\n",
       "  <th>store_nbr_34</th>           <td>   -0.0024</td> <td>    0.001</td> <td>   -3.163</td> <td> 0.002</td> <td>   -0.004</td> <td>   -0.001</td>\n",
       "</tr>\n",
       "<tr>\n",
       "  <th>store_nbr_35</th>           <td>   -0.0026</td> <td>    0.000</td> <td>   -5.478</td> <td> 0.000</td> <td>   -0.003</td> <td>   -0.002</td>\n",
       "</tr>\n",
       "<tr>\n",
       "  <th>store_nbr_36</th>           <td>   -0.0019</td> <td>    0.000</td> <td>   -4.277</td> <td> 0.000</td> <td>   -0.003</td> <td>   -0.001</td>\n",
       "</tr>\n",
       "<tr>\n",
       "  <th>store_nbr_37</th>           <td>   -0.0006</td> <td>    0.001</td> <td>   -0.813</td> <td> 0.416</td> <td>   -0.002</td> <td>    0.001</td>\n",
       "</tr>\n",
       "<tr>\n",
       "  <th>store_nbr_38</th>           <td>    0.0017</td> <td>    0.000</td> <td>    4.037</td> <td> 0.000</td> <td>    0.001</td> <td>    0.003</td>\n",
       "</tr>\n",
       "<tr>\n",
       "  <th>store_nbr_39</th>           <td>    0.0009</td> <td>    0.001</td> <td>    1.646</td> <td> 0.100</td> <td>   -0.000</td> <td>    0.002</td>\n",
       "</tr>\n",
       "<tr>\n",
       "  <th>store_nbr_40</th>           <td>    0.0048</td> <td>    0.001</td> <td>    7.856</td> <td> 0.000</td> <td>    0.004</td> <td>    0.006</td>\n",
       "</tr>\n",
       "<tr>\n",
       "  <th>store_nbr_41</th>           <td>   -0.0007</td> <td>    0.001</td> <td>   -1.156</td> <td> 0.248</td> <td>   -0.002</td> <td>    0.000</td>\n",
       "</tr>\n",
       "<tr>\n",
       "  <th>store_nbr_42</th>           <td>    0.0009</td> <td>    0.001</td> <td>    1.286</td> <td> 0.199</td> <td>   -0.000</td> <td>    0.002</td>\n",
       "</tr>\n",
       "<tr>\n",
       "  <th>store_nbr_43</th>           <td>    0.0003</td> <td>    0.000</td> <td>    0.728</td> <td> 0.467</td> <td>   -0.001</td> <td>    0.001</td>\n",
       "</tr>\n",
       "<tr>\n",
       "  <th>store_nbr_44</th>           <td>    0.0060</td> <td>    0.000</td> <td>   14.024</td> <td> 0.000</td> <td>    0.005</td> <td>    0.007</td>\n",
       "</tr>\n",
       "<tr>\n",
       "  <th>store_nbr_45</th>           <td>    0.0108</td> <td>    0.001</td> <td>   14.103</td> <td> 0.000</td> <td>    0.009</td> <td>    0.012</td>\n",
       "</tr>\n",
       "<tr>\n",
       "  <th>store_nbr_46</th>           <td>   -0.0015</td> <td>    0.001</td> <td>   -1.878</td> <td> 0.060</td> <td>   -0.003</td> <td> 6.67e-05</td>\n",
       "</tr>\n",
       "<tr>\n",
       "  <th>store_nbr_47</th>           <td>    0.0073</td> <td>    0.001</td> <td>    8.926</td> <td> 0.000</td> <td>    0.006</td> <td>    0.009</td>\n",
       "</tr>\n",
       "<tr>\n",
       "  <th>store_nbr_48</th>           <td>   -0.0023</td> <td>    0.001</td> <td>   -2.769</td> <td> 0.006</td> <td>   -0.004</td> <td>   -0.001</td>\n",
       "</tr>\n",
       "<tr>\n",
       "  <th>store_nbr_49</th>           <td>   -0.0023</td> <td>    0.001</td> <td>   -3.001</td> <td> 0.003</td> <td>   -0.004</td> <td>   -0.001</td>\n",
       "</tr>\n",
       "<tr>\n",
       "  <th>store_nbr_50</th>           <td>    0.0006</td> <td>    0.001</td> <td>    0.998</td> <td> 0.319</td> <td>   -0.001</td> <td>    0.002</td>\n",
       "</tr>\n",
       "<tr>\n",
       "  <th>store_nbr_51</th>           <td>   -0.0016</td> <td>    0.000</td> <td>   -3.982</td> <td> 0.000</td> <td>   -0.002</td> <td>   -0.001</td>\n",
       "</tr>\n",
       "<tr>\n",
       "  <th>store_nbr_52</th>           <td>   -0.0053</td> <td>    0.001</td> <td>   -8.726</td> <td> 0.000</td> <td>   -0.007</td> <td>   -0.004</td>\n",
       "</tr>\n",
       "<tr>\n",
       "  <th>store_nbr_53</th>           <td>    0.0037</td> <td>    0.001</td> <td>    5.984</td> <td> 0.000</td> <td>    0.002</td> <td>    0.005</td>\n",
       "</tr>\n",
       "<tr>\n",
       "  <th>store_nbr_54</th>           <td>    0.0017</td> <td>    0.000</td> <td>    3.584</td> <td> 0.000</td> <td>    0.001</td> <td>    0.003</td>\n",
       "</tr>\n",
       "<tr>\n",
       "  <th>item_nbr_222879</th>        <td>   -0.0037</td> <td>    0.001</td> <td>   -6.643</td> <td> 0.000</td> <td>   -0.005</td> <td>   -0.003</td>\n",
       "</tr>\n",
       "<tr>\n",
       "  <th>item_nbr_261052</th>        <td>    0.0021</td> <td>    0.001</td> <td>    3.730</td> <td> 0.000</td> <td>    0.001</td> <td>    0.003</td>\n",
       "</tr>\n",
       "<tr>\n",
       "  <th>item_nbr_265559</th>        <td>    0.0110</td> <td>    0.001</td> <td>   19.478</td> <td> 0.000</td> <td>    0.010</td> <td>    0.012</td>\n",
       "</tr>\n",
       "<tr>\n",
       "  <th>item_nbr_314384</th>        <td>    0.0013</td> <td>    0.001</td> <td>    2.271</td> <td> 0.023</td> <td>    0.000</td> <td>    0.002</td>\n",
       "</tr>\n",
       "<tr>\n",
       "  <th>item_nbr_323013</th>        <td>   -0.0088</td> <td>    0.001</td> <td>  -15.091</td> <td> 0.000</td> <td>   -0.010</td> <td>   -0.008</td>\n",
       "</tr>\n",
       "<tr>\n",
       "  <th>item_nbr_364606</th>        <td>    0.0085</td> <td>    0.001</td> <td>   14.822</td> <td> 0.000</td> <td>    0.007</td> <td>    0.010</td>\n",
       "</tr>\n",
       "<tr>\n",
       "  <th>item_nbr_414750</th>        <td>    0.0027</td> <td>    0.001</td> <td>    4.835</td> <td> 0.000</td> <td>    0.002</td> <td>    0.004</td>\n",
       "</tr>\n",
       "<tr>\n",
       "  <th>item_nbr_502331</th>        <td>    0.0028</td> <td>    0.000</td> <td>   12.858</td> <td> 0.000</td> <td>    0.002</td> <td>    0.003</td>\n",
       "</tr>\n",
       "<tr>\n",
       "  <th>item_nbr_581078</th>        <td>   -0.0044</td> <td>    0.000</td> <td>  -17.805</td> <td> 0.000</td> <td>   -0.005</td> <td>   -0.004</td>\n",
       "</tr>\n",
       "<tr>\n",
       "  <th>item_nbr_1036689</th>       <td>   -0.0013</td> <td>    0.001</td> <td>   -2.200</td> <td> 0.028</td> <td>   -0.002</td> <td>   -0.000</td>\n",
       "</tr>\n",
       "<tr>\n",
       "  <th>item_nbr_1052563</th>       <td>    0.0049</td> <td>    0.001</td> <td>    8.690</td> <td> 0.000</td> <td>    0.004</td> <td>    0.006</td>\n",
       "</tr>\n",
       "<tr>\n",
       "  <th>item_nbr_1157564</th>       <td>   -0.0087</td> <td>    0.001</td> <td>  -14.311</td> <td> 0.000</td> <td>   -0.010</td> <td>   -0.008</td>\n",
       "</tr>\n",
       "<tr>\n",
       "  <th>item_nbr_1162382</th>       <td>   -0.0014</td> <td>    0.001</td> <td>   -2.423</td> <td> 0.015</td> <td>   -0.002</td> <td>   -0.000</td>\n",
       "</tr>\n",
       "<tr>\n",
       "  <th>item_nbr_1418845</th>       <td>   -0.0051</td> <td>    0.001</td> <td>   -8.899</td> <td> 0.000</td> <td>   -0.006</td> <td>   -0.004</td>\n",
       "</tr>\n",
       "<tr>\n",
       "  <th>item_nbr_1463860</th>       <td>   -0.0102</td> <td>    0.001</td> <td>  -19.712</td> <td> 0.000</td> <td>   -0.011</td> <td>   -0.009</td>\n",
       "</tr>\n",
       "<tr>\n",
       "  <th>item_nbr_1958216</th>       <td>   -0.0180</td> <td>    0.001</td> <td>  -34.644</td> <td> 0.000</td> <td>   -0.019</td> <td>   -0.017</td>\n",
       "</tr>\n",
       "<tr>\n",
       "  <th>item_nbr_2010511</th>       <td>   -0.0057</td> <td>    0.001</td> <td>   -9.995</td> <td> 0.000</td> <td>   -0.007</td> <td>   -0.005</td>\n",
       "</tr>\n",
       "<tr>\n",
       "  <th>item_nbr_2042941</th>       <td>    0.0229</td> <td>    0.001</td> <td>   44.982</td> <td> 0.000</td> <td>    0.022</td> <td>    0.024</td>\n",
       "</tr>\n",
       "<tr>\n",
       "  <th>item_nbr_2042947</th>       <td>    0.0182</td> <td>    0.001</td> <td>   35.559</td> <td> 0.000</td> <td>    0.017</td> <td>    0.019</td>\n",
       "</tr>\n",
       "<tr>\n",
       "  <th>item_nbr_2081064</th>       <td>   -0.0005</td> <td>    0.000</td> <td>   -2.348</td> <td> 0.019</td> <td>   -0.001</td> <td>-8.71e-05</td>\n",
       "</tr>\n",
       "<tr>\n",
       "  <th>family_BEVERAGES</th>       <td>    0.0131</td> <td>    0.000</td> <td>   65.889</td> <td> 0.000</td> <td>    0.013</td> <td>    0.013</td>\n",
       "</tr>\n",
       "<tr>\n",
       "  <th>family_BREAD/BAKERY</th>    <td>    0.0028</td> <td>    0.000</td> <td>   12.858</td> <td> 0.000</td> <td>    0.002</td> <td>    0.003</td>\n",
       "</tr>\n",
       "<tr>\n",
       "  <th>family_CLEANING</th>        <td>   -0.0044</td> <td>    0.000</td> <td>  -17.805</td> <td> 0.000</td> <td>   -0.005</td> <td>   -0.004</td>\n",
       "</tr>\n",
       "<tr>\n",
       "  <th>family_GROCERY I</th>       <td>   -0.0040</td> <td>    0.000</td> <td>  -23.499</td> <td> 0.000</td> <td>   -0.004</td> <td>   -0.004</td>\n",
       "</tr>\n",
       "<tr>\n",
       "  <th>family_PREPARED FOODS</th>  <td>   -0.0005</td> <td>    0.000</td> <td>   -2.348</td> <td> 0.019</td> <td>   -0.001</td> <td>-8.71e-05</td>\n",
       "</tr>\n",
       "<tr>\n",
       "  <th>perishable_0</th>           <td>    0.0046</td> <td>    0.000</td> <td>   33.910</td> <td> 0.000</td> <td>    0.004</td> <td>    0.005</td>\n",
       "</tr>\n",
       "<tr>\n",
       "  <th>perishable_1</th>           <td>    0.0023</td> <td>    0.000</td> <td>   14.453</td> <td> 0.000</td> <td>    0.002</td> <td>    0.003</td>\n",
       "</tr>\n",
       "<tr>\n",
       "  <th>type_y_Additional</th>      <td>    0.0010</td> <td>    0.001</td> <td>    1.920</td> <td> 0.055</td> <td>   -2e-05</td> <td>    0.002</td>\n",
       "</tr>\n",
       "<tr>\n",
       "  <th>type_y_Holiday</th>         <td>    0.0023</td> <td>    0.000</td> <td>    6.160</td> <td> 0.000</td> <td>    0.002</td> <td>    0.003</td>\n",
       "</tr>\n",
       "<tr>\n",
       "  <th>type_y_Transfer</th>        <td>    0.0014</td> <td>    0.000</td> <td>    3.477</td> <td> 0.001</td> <td>    0.001</td> <td>    0.002</td>\n",
       "</tr>\n",
       "<tr>\n",
       "  <th>type_y_no_holyday</th>      <td>    0.0022</td> <td> 9.18e-05</td> <td>   24.010</td> <td> 0.000</td> <td>    0.002</td> <td>    0.002</td>\n",
       "</tr>\n",
       "<tr>\n",
       "  <th>locale_Local</th>           <td>    0.0016</td> <td>    0.000</td> <td>    6.495</td> <td> 0.000</td> <td>    0.001</td> <td>    0.002</td>\n",
       "</tr>\n",
       "<tr>\n",
       "  <th>locale_National</th>        <td>    0.0031</td> <td>    0.000</td> <td>    9.399</td> <td> 0.000</td> <td>    0.002</td> <td>    0.004</td>\n",
       "</tr>\n",
       "<tr>\n",
       "  <th>locale_no_locale</th>       <td>    0.0022</td> <td> 9.18e-05</td> <td>   24.010</td> <td> 0.000</td> <td>    0.002</td> <td>    0.002</td>\n",
       "</tr>\n",
       "<tr>\n",
       "  <th>transferred_False</th>      <td>    0.0030</td> <td>    0.000</td> <td>    8.932</td> <td> 0.000</td> <td>    0.002</td> <td>    0.004</td>\n",
       "</tr>\n",
       "<tr>\n",
       "  <th>transferred_True</th>       <td>    0.0017</td> <td>    0.000</td> <td>    4.091</td> <td> 0.000</td> <td>    0.001</td> <td>    0.002</td>\n",
       "</tr>\n",
       "<tr>\n",
       "  <th>transferred_no_holyday</th> <td>    0.0022</td> <td> 9.18e-05</td> <td>   24.010</td> <td> 0.000</td> <td>    0.002</td> <td>    0.002</td>\n",
       "</tr>\n",
       "<tr>\n",
       "  <th>month_07</th>               <td>    0.0047</td> <td>    0.000</td> <td>   28.742</td> <td> 0.000</td> <td>    0.004</td> <td>    0.005</td>\n",
       "</tr>\n",
       "<tr>\n",
       "  <th>month_08</th>               <td>    0.0021</td> <td>    0.000</td> <td>   10.947</td> <td> 0.000</td> <td>    0.002</td> <td>    0.003</td>\n",
       "</tr>\n",
       "<tr>\n",
       "  <th>day_Friday</th>             <td>   -0.0013</td> <td>    0.000</td> <td>   -3.263</td> <td> 0.001</td> <td>   -0.002</td> <td>   -0.001</td>\n",
       "</tr>\n",
       "<tr>\n",
       "  <th>day_Monday</th>             <td>    0.0018</td> <td>    0.000</td> <td>    5.393</td> <td> 0.000</td> <td>    0.001</td> <td>    0.002</td>\n",
       "</tr>\n",
       "<tr>\n",
       "  <th>day_Saturday</th>           <td>    0.0038</td> <td>    0.000</td> <td>   11.685</td> <td> 0.000</td> <td>    0.003</td> <td>    0.004</td>\n",
       "</tr>\n",
       "<tr>\n",
       "  <th>day_Sunday</th>             <td>    0.0072</td> <td>    0.000</td> <td>   22.135</td> <td> 0.000</td> <td>    0.007</td> <td>    0.008</td>\n",
       "</tr>\n",
       "<tr>\n",
       "  <th>day_Thursday</th>           <td>   -0.0030</td> <td>    0.000</td> <td>   -7.632</td> <td> 0.000</td> <td>   -0.004</td> <td>   -0.002</td>\n",
       "</tr>\n",
       "<tr>\n",
       "  <th>day_Tuesday</th>            <td>    0.0005</td> <td>    0.000</td> <td>    1.370</td> <td> 0.171</td> <td>   -0.000</td> <td>    0.001</td>\n",
       "</tr>\n",
       "<tr>\n",
       "  <th>day_Wednesday</th>          <td>   -0.0020</td> <td>    0.000</td> <td>   -5.702</td> <td> 0.000</td> <td>   -0.003</td> <td>   -0.001</td>\n",
       "</tr>\n",
       "</table>\n",
       "<table class=\"simpletable\">\n",
       "<tr>\n",
       "  <th>Omnibus:</th>       <td>43308.972</td> <th>  Durbin-Watson:     </th>   <td>   1.976</td>  \n",
       "</tr>\n",
       "<tr>\n",
       "  <th>Prob(Omnibus):</th>  <td> 0.000</td>   <th>  Jarque-Bera (JB):  </th> <td>63265023.920</td>\n",
       "</tr>\n",
       "<tr>\n",
       "  <th>Skew:</th>           <td> 9.886</td>   <th>  Prob(JB):          </th>   <td>    0.00</td>  \n",
       "</tr>\n",
       "<tr>\n",
       "  <th>Kurtosis:</th>       <td>237.722</td>  <th>  Cond. No.          </th>   <td>1.94e+16</td>  \n",
       "</tr>\n",
       "</table><br/><br/>Notes:<br/>[1] Standard Errors assume that the covariance matrix of the errors is correctly specified.<br/>[2] The smallest eigenvalue is 4.13e-28. This might indicate that there are<br/>strong multicollinearity problems or that the design matrix is singular."
      ],
      "text/plain": [
       "<class 'statsmodels.iolib.summary.Summary'>\n",
       "\"\"\"\n",
       "                            OLS Regression Results                            \n",
       "==============================================================================\n",
       "Dep. Variable:             unit_sales   R-squared:                       0.366\n",
       "Model:                            OLS   Adj. R-squared:                  0.364\n",
       "Method:                 Least Squares   F-statistic:                     184.9\n",
       "Date:                Thu, 11 Aug 2022   Prob (F-statistic):               0.00\n",
       "Time:                        17:16:43   Log-Likelihood:                 65919.\n",
       "No. Observations:               27365   AIC:                        -1.317e+05\n",
       "Df Residuals:                   27279   BIC:                        -1.310e+05\n",
       "Df Model:                          85                                         \n",
       "Covariance Type:            nonrobust                                         \n",
       "==========================================================================================\n",
       "                             coef    std err          t      P>|t|      [0.025      0.975]\n",
       "------------------------------------------------------------------------------------------\n",
       "dcoilwtico                 0.0071      0.000     15.162      0.000       0.006       0.008\n",
       "onpromotion_False         -0.0035      0.000    -15.174      0.000      -0.004      -0.003\n",
       "onpromotion_True           0.0104      0.000     35.778      0.000       0.010       0.011\n",
       "city_Ambato               -0.0006      0.000     -1.443      0.149      -0.001       0.000\n",
       "city_Babahoyo              0.0011      0.000      3.107      0.002       0.000       0.002\n",
       "city_Cayambe               0.0024      0.000      5.286      0.000       0.002       0.003\n",
       "city_Cuenca                0.0013      0.000      3.340      0.001       0.001       0.002\n",
       "city_Daule                 0.0009      0.000      2.143      0.032    8.01e-05       0.002\n",
       "city_El Carmen             0.0017      0.000      3.584      0.000       0.001       0.003\n",
       "city_Esmeraldas            0.0003      0.000      0.728      0.467      -0.001       0.001\n",
       "city_Guaranda              0.0015      0.000      3.531      0.000       0.001       0.002\n",
       "city_Guayaquil            -0.0032      0.000     -9.759      0.000      -0.004      -0.003\n",
       "city_Ibarra               -0.0002      0.000     -0.366      0.714      -0.001       0.001\n",
       "city_Latacunga             0.0013      0.000      2.970      0.003       0.000       0.002\n",
       "city_Libertad             -0.0019      0.000     -4.277      0.000      -0.003      -0.001\n",
       "city_Loja                  0.0017      0.000      4.037      0.000       0.001       0.003\n",
       "city_Machala               0.0042      0.000      9.692      0.000       0.003       0.005\n",
       "city_Manta                -0.0016      0.000     -3.789      0.000      -0.002      -0.001\n",
       "city_Playas               -0.0026      0.000     -5.478      0.000      -0.003      -0.002\n",
       "city_Puyo                 -0.0004      0.000     -1.016      0.310      -0.001       0.000\n",
       "city_Quevedo               0.0001      0.000      0.276      0.783      -0.001       0.001\n",
       "city_Quito                 0.0045      0.000     16.646      0.000       0.004       0.005\n",
       "city_Riobamba              0.0001      0.000      0.341      0.733      -0.001       0.001\n",
       "city_Salinas              -0.0035      0.000     -7.936      0.000      -0.004      -0.003\n",
       "city_Santo Domingo        -0.0004      0.000     -1.021      0.307      -0.001       0.000\n",
       "type_x_A                   0.0117      0.000     49.826      0.000       0.011       0.012\n",
       "type_x_B                  -0.0014      0.000     -5.849      0.000      -0.002      -0.001\n",
       "type_x_C                  -0.0039      0.000    -19.342      0.000      -0.004      -0.004\n",
       "type_x_D                  -0.0010      0.000     -4.565      0.000      -0.001      -0.001\n",
       "type_x_E                   0.0016      0.000      4.720      0.000       0.001       0.002\n",
       "cluster_1                  0.0017      0.000      4.501      0.000       0.001       0.002\n",
       "cluster_2                  0.0003      0.000      0.873      0.383      -0.000       0.001\n",
       "cluster_3                 -0.0011      0.000     -3.774      0.000      -0.002      -0.001\n",
       "cluster_4                  0.0002      0.000      0.615      0.539      -0.001       0.001\n",
       "cluster_5                  0.0060      0.000     14.024      0.000       0.005       0.007\n",
       "cluster_6                  0.0020      0.000      6.583      0.000       0.001       0.003\n",
       "cluster_7                 -0.0003      0.000     -0.846      0.398      -0.001       0.000\n",
       "cluster_8                  0.0050      0.000     12.738      0.000       0.004       0.006\n",
       "cluster_9                 -0.0024      0.000     -5.712      0.000      -0.003      -0.002\n",
       "cluster_10                -0.0009      0.000     -2.595      0.009      -0.002      -0.000\n",
       "cluster_11                 0.0032      0.000      8.556      0.000       0.002       0.004\n",
       "cluster_12              5.906e-05      0.000      0.144      0.886      -0.001       0.001\n",
       "cluster_13                -0.0023      0.000     -6.283      0.000      -0.003      -0.002\n",
       "cluster_14                 0.0041      0.000     11.662      0.000       0.003       0.005\n",
       "cluster_15                -0.0026      0.000     -8.436      0.000      -0.003      -0.002\n",
       "cluster_16                -0.0046      0.000    -11.586      0.000      -0.005      -0.004\n",
       "cluster_17                -0.0016      0.000     -3.982      0.000      -0.002      -0.001\n",
       "store_nbr_1               -0.0077      0.001     -9.182      0.000      -0.009      -0.006\n",
       "store_nbr_2               -0.0018      0.001     -2.187      0.029      -0.003      -0.000\n",
       "store_nbr_3                0.0156      0.001     19.411      0.000       0.014       0.017\n",
       "store_nbr_4               -0.0011      0.001     -1.787      0.074      -0.002       0.000\n",
       "store_nbr_5               -0.0008      0.001     -1.356      0.175      -0.002       0.000\n",
       "store_nbr_6                0.0035      0.001      4.231      0.000       0.002       0.005\n",
       "store_nbr_7               -0.0061      0.001     -7.625      0.000      -0.008      -0.005\n",
       "store_nbr_8               -0.0044      0.001     -5.497      0.000      -0.006      -0.003\n",
       "store_nbr_9                0.0014      0.001      1.759      0.079      -0.000       0.003\n",
       "store_nbr_10              -0.0053      0.001     -7.870      0.000      -0.007      -0.004\n",
       "store_nbr_11               0.0024      0.000      5.286      0.000       0.002       0.003\n",
       "store_nbr_12               0.0010      0.001      1.459      0.145      -0.000       0.002\n",
       "store_nbr_13               0.0002      0.001      0.310      0.757      -0.001       0.002\n",
       "store_nbr_14               0.0001      0.000      0.341      0.733      -0.001       0.001\n",
       "store_nbr_15              -0.0002      0.000     -0.366      0.714      -0.001       0.001\n",
       "store_nbr_16              -0.0022      0.001     -3.094      0.002      -0.004      -0.001\n",
       "store_nbr_17            5.906e-05      0.000      0.144      0.886      -0.001       0.001\n",
       "store_nbr_18              -0.0046      0.000    -11.586      0.000      -0.005      -0.004\n",
       "store_nbr_19               0.0015      0.000      3.531      0.000       0.001       0.002\n",
       "store_nbr_20              -0.0030      0.001     -3.677      0.000      -0.005      -0.001\n",
       "store_nbr_21               0.0026      0.001      3.806      0.000       0.001       0.004\n",
       "store_nbr_22              -0.0004      0.000     -1.016      0.310      -0.001       0.000\n",
       "store_nbr_23              -0.0012      0.001     -2.129      0.033      -0.002   -9.63e-05\n",
       "store_nbr_24               0.0042      0.001      6.635      0.000       0.003       0.005\n",
       "store_nbr_25              -0.0035      0.000     -7.936      0.000      -0.004      -0.003\n",
       "store_nbr_26              -0.0036      0.001     -6.013      0.000      -0.005      -0.002\n",
       "store_nbr_27               0.0009      0.000      2.143      0.032    8.01e-05       0.002\n",
       "store_nbr_28               0.0037      0.001      4.828      0.000       0.002       0.005\n",
       "store_nbr_29              -0.0004      0.001     -0.576      0.564      -0.002       0.001\n",
       "store_nbr_30              -0.0007      0.001     -0.883      0.377      -0.002       0.001\n",
       "store_nbr_31               0.0011      0.000      3.107      0.002       0.000       0.002\n",
       "store_nbr_32              -0.0023      0.001     -2.801      0.005      -0.004      -0.001\n",
       "store_nbr_33               0.0001      0.000      0.276      0.783      -0.001       0.001\n",
       "store_nbr_34              -0.0024      0.001     -3.163      0.002      -0.004      -0.001\n",
       "store_nbr_35              -0.0026      0.000     -5.478      0.000      -0.003      -0.002\n",
       "store_nbr_36              -0.0019      0.000     -4.277      0.000      -0.003      -0.001\n",
       "store_nbr_37              -0.0006      0.001     -0.813      0.416      -0.002       0.001\n",
       "store_nbr_38               0.0017      0.000      4.037      0.000       0.001       0.003\n",
       "store_nbr_39               0.0009      0.001      1.646      0.100      -0.000       0.002\n",
       "store_nbr_40               0.0048      0.001      7.856      0.000       0.004       0.006\n",
       "store_nbr_41              -0.0007      0.001     -1.156      0.248      -0.002       0.000\n",
       "store_nbr_42               0.0009      0.001      1.286      0.199      -0.000       0.002\n",
       "store_nbr_43               0.0003      0.000      0.728      0.467      -0.001       0.001\n",
       "store_nbr_44               0.0060      0.000     14.024      0.000       0.005       0.007\n",
       "store_nbr_45               0.0108      0.001     14.103      0.000       0.009       0.012\n",
       "store_nbr_46              -0.0015      0.001     -1.878      0.060      -0.003    6.67e-05\n",
       "store_nbr_47               0.0073      0.001      8.926      0.000       0.006       0.009\n",
       "store_nbr_48              -0.0023      0.001     -2.769      0.006      -0.004      -0.001\n",
       "store_nbr_49              -0.0023      0.001     -3.001      0.003      -0.004      -0.001\n",
       "store_nbr_50               0.0006      0.001      0.998      0.319      -0.001       0.002\n",
       "store_nbr_51              -0.0016      0.000     -3.982      0.000      -0.002      -0.001\n",
       "store_nbr_52              -0.0053      0.001     -8.726      0.000      -0.007      -0.004\n",
       "store_nbr_53               0.0037      0.001      5.984      0.000       0.002       0.005\n",
       "store_nbr_54               0.0017      0.000      3.584      0.000       0.001       0.003\n",
       "item_nbr_222879           -0.0037      0.001     -6.643      0.000      -0.005      -0.003\n",
       "item_nbr_261052            0.0021      0.001      3.730      0.000       0.001       0.003\n",
       "item_nbr_265559            0.0110      0.001     19.478      0.000       0.010       0.012\n",
       "item_nbr_314384            0.0013      0.001      2.271      0.023       0.000       0.002\n",
       "item_nbr_323013           -0.0088      0.001    -15.091      0.000      -0.010      -0.008\n",
       "item_nbr_364606            0.0085      0.001     14.822      0.000       0.007       0.010\n",
       "item_nbr_414750            0.0027      0.001      4.835      0.000       0.002       0.004\n",
       "item_nbr_502331            0.0028      0.000     12.858      0.000       0.002       0.003\n",
       "item_nbr_581078           -0.0044      0.000    -17.805      0.000      -0.005      -0.004\n",
       "item_nbr_1036689          -0.0013      0.001     -2.200      0.028      -0.002      -0.000\n",
       "item_nbr_1052563           0.0049      0.001      8.690      0.000       0.004       0.006\n",
       "item_nbr_1157564          -0.0087      0.001    -14.311      0.000      -0.010      -0.008\n",
       "item_nbr_1162382          -0.0014      0.001     -2.423      0.015      -0.002      -0.000\n",
       "item_nbr_1418845          -0.0051      0.001     -8.899      0.000      -0.006      -0.004\n",
       "item_nbr_1463860          -0.0102      0.001    -19.712      0.000      -0.011      -0.009\n",
       "item_nbr_1958216          -0.0180      0.001    -34.644      0.000      -0.019      -0.017\n",
       "item_nbr_2010511          -0.0057      0.001     -9.995      0.000      -0.007      -0.005\n",
       "item_nbr_2042941           0.0229      0.001     44.982      0.000       0.022       0.024\n",
       "item_nbr_2042947           0.0182      0.001     35.559      0.000       0.017       0.019\n",
       "item_nbr_2081064          -0.0005      0.000     -2.348      0.019      -0.001   -8.71e-05\n",
       "family_BEVERAGES           0.0131      0.000     65.889      0.000       0.013       0.013\n",
       "family_BREAD/BAKERY        0.0028      0.000     12.858      0.000       0.002       0.003\n",
       "family_CLEANING           -0.0044      0.000    -17.805      0.000      -0.005      -0.004\n",
       "family_GROCERY I          -0.0040      0.000    -23.499      0.000      -0.004      -0.004\n",
       "family_PREPARED FOODS     -0.0005      0.000     -2.348      0.019      -0.001   -8.71e-05\n",
       "perishable_0               0.0046      0.000     33.910      0.000       0.004       0.005\n",
       "perishable_1               0.0023      0.000     14.453      0.000       0.002       0.003\n",
       "type_y_Additional          0.0010      0.001      1.920      0.055      -2e-05       0.002\n",
       "type_y_Holiday             0.0023      0.000      6.160      0.000       0.002       0.003\n",
       "type_y_Transfer            0.0014      0.000      3.477      0.001       0.001       0.002\n",
       "type_y_no_holyday          0.0022   9.18e-05     24.010      0.000       0.002       0.002\n",
       "locale_Local               0.0016      0.000      6.495      0.000       0.001       0.002\n",
       "locale_National            0.0031      0.000      9.399      0.000       0.002       0.004\n",
       "locale_no_locale           0.0022   9.18e-05     24.010      0.000       0.002       0.002\n",
       "transferred_False          0.0030      0.000      8.932      0.000       0.002       0.004\n",
       "transferred_True           0.0017      0.000      4.091      0.000       0.001       0.002\n",
       "transferred_no_holyday     0.0022   9.18e-05     24.010      0.000       0.002       0.002\n",
       "month_07                   0.0047      0.000     28.742      0.000       0.004       0.005\n",
       "month_08                   0.0021      0.000     10.947      0.000       0.002       0.003\n",
       "day_Friday                -0.0013      0.000     -3.263      0.001      -0.002      -0.001\n",
       "day_Monday                 0.0018      0.000      5.393      0.000       0.001       0.002\n",
       "day_Saturday               0.0038      0.000     11.685      0.000       0.003       0.004\n",
       "day_Sunday                 0.0072      0.000     22.135      0.000       0.007       0.008\n",
       "day_Thursday              -0.0030      0.000     -7.632      0.000      -0.004      -0.002\n",
       "day_Tuesday                0.0005      0.000      1.370      0.171      -0.000       0.001\n",
       "day_Wednesday             -0.0020      0.000     -5.702      0.000      -0.003      -0.001\n",
       "==============================================================================\n",
       "Omnibus:                    43308.972   Durbin-Watson:                   1.976\n",
       "Prob(Omnibus):                  0.000   Jarque-Bera (JB):         63265023.920\n",
       "Skew:                           9.886   Prob(JB):                         0.00\n",
       "Kurtosis:                     237.722   Cond. No.                     1.94e+16\n",
       "==============================================================================\n",
       "\n",
       "Notes:\n",
       "[1] Standard Errors assume that the covariance matrix of the errors is correctly specified.\n",
       "[2] The smallest eigenvalue is 4.13e-28. This might indicate that there are\n",
       "strong multicollinearity problems or that the design matrix is singular.\n",
       "\"\"\""
      ]
     },
     "execution_count": 170,
     "metadata": {},
     "output_type": "execute_result"
    }
   ],
   "source": [
    "#import statsmodels.api as sm\n",
    "import statsmodels.regression.linear_model  as sm\n",
    "model = sm.OLS(y_train, X_train)\n",
    "results = model.fit()\n",
    "# Statsmodels gives R-like statistical output\n",
    "results.summary()\n",
    "# Here the Ordinalry Least Squares method has given us the r^2 value of 0.354 which is poor for model to be predicted on these variables."
   ]
  },
  {
   "cell_type": "markdown",
   "metadata": {},
   "source": [
    "# The Linear regression model gives a low R- square value of 0.36"
   ]
  },
  {
   "cell_type": "markdown",
   "metadata": {},
   "source": [
    "------"
   ]
  },
  {
   "cell_type": "markdown",
   "metadata": {},
   "source": [
    "## 9.b DecisionTree Regressor\n",
    "\n",
    "A decision tree is a decision support tool that uses a tree-like graph or model of decisions and their possible consequences, including chance event outcomes, resource costs, and utility. It is one way to display an algorithm that only contains conditional control statements.\n",
    "\n"
   ]
  },
  {
   "cell_type": "code",
   "execution_count": 181,
   "metadata": {
    "tags": []
   },
   "outputs": [],
   "source": [
    "dtr=DecisionTreeRegressor(max_depth=10,min_samples_leaf=5,max_leaf_nodes=5)"
   ]
  },
  {
   "cell_type": "code",
   "execution_count": 182,
   "metadata": {},
   "outputs": [
    {
     "name": "stdout",
     "output_type": "stream",
     "text": [
      "R2 score =  0.34151505635144486\n",
      "MSE score =  0.0006105670432820245\n"
     ]
    }
   ],
   "source": [
    "dtr.fit(X_train,y_train)\n",
    "y_pred=dtr.predict(X_test)\n",
    "\n",
    "print('R2 score = ',r2_score(y_test, y_pred))\n",
    "print('MSE score = ',mean_squared_error(y_test, y_pred))\n",
    "\n",
    "##using a decision tree greatly improves the accurancy of model prediction."
   ]
  },
  {
   "cell_type": "markdown",
   "metadata": {},
   "source": [
    "## 9.d Random Forest Regressor\n",
    "\n",
    "Random forests or random decision forests are an ensemble learning method for classification, regression and other tasks, that operate by constructing a multitude of decision trees at training time and outputting the class that is the mode of the classes (classification) or mean prediction (regression) of the individual trees.Random decision forests correct for decision trees' habit of overfitting to their training set."
   ]
  },
  {
   "cell_type": "code",
   "execution_count": 186,
   "metadata": {},
   "outputs": [
    {
     "name": "stdout",
     "output_type": "stream",
     "text": [
      "Fitting 5 folds for each of 6 candidates, totalling 30 fits\n"
     ]
    },
    {
     "data": {
      "text/html": [
       "<style>#sk-container-id-2 {color: black;background-color: white;}#sk-container-id-2 pre{padding: 0;}#sk-container-id-2 div.sk-toggleable {background-color: white;}#sk-container-id-2 label.sk-toggleable__label {cursor: pointer;display: block;width: 100%;margin-bottom: 0;padding: 0.3em;box-sizing: border-box;text-align: center;}#sk-container-id-2 label.sk-toggleable__label-arrow:before {content: \"▸\";float: left;margin-right: 0.25em;color: #696969;}#sk-container-id-2 label.sk-toggleable__label-arrow:hover:before {color: black;}#sk-container-id-2 div.sk-estimator:hover label.sk-toggleable__label-arrow:before {color: black;}#sk-container-id-2 div.sk-toggleable__content {max-height: 0;max-width: 0;overflow: hidden;text-align: left;background-color: #f0f8ff;}#sk-container-id-2 div.sk-toggleable__content pre {margin: 0.2em;color: black;border-radius: 0.25em;background-color: #f0f8ff;}#sk-container-id-2 input.sk-toggleable__control:checked~div.sk-toggleable__content {max-height: 200px;max-width: 100%;overflow: auto;}#sk-container-id-2 input.sk-toggleable__control:checked~label.sk-toggleable__label-arrow:before {content: \"▾\";}#sk-container-id-2 div.sk-estimator input.sk-toggleable__control:checked~label.sk-toggleable__label {background-color: #d4ebff;}#sk-container-id-2 div.sk-label input.sk-toggleable__control:checked~label.sk-toggleable__label {background-color: #d4ebff;}#sk-container-id-2 input.sk-hidden--visually {border: 0;clip: rect(1px 1px 1px 1px);clip: rect(1px, 1px, 1px, 1px);height: 1px;margin: -1px;overflow: hidden;padding: 0;position: absolute;width: 1px;}#sk-container-id-2 div.sk-estimator {font-family: monospace;background-color: #f0f8ff;border: 1px dotted black;border-radius: 0.25em;box-sizing: border-box;margin-bottom: 0.5em;}#sk-container-id-2 div.sk-estimator:hover {background-color: #d4ebff;}#sk-container-id-2 div.sk-parallel-item::after {content: \"\";width: 100%;border-bottom: 1px solid gray;flex-grow: 1;}#sk-container-id-2 div.sk-label:hover label.sk-toggleable__label {background-color: #d4ebff;}#sk-container-id-2 div.sk-serial::before {content: \"\";position: absolute;border-left: 1px solid gray;box-sizing: border-box;top: 0;bottom: 0;left: 50%;z-index: 0;}#sk-container-id-2 div.sk-serial {display: flex;flex-direction: column;align-items: center;background-color: white;padding-right: 0.2em;padding-left: 0.2em;position: relative;}#sk-container-id-2 div.sk-item {position: relative;z-index: 1;}#sk-container-id-2 div.sk-parallel {display: flex;align-items: stretch;justify-content: center;background-color: white;position: relative;}#sk-container-id-2 div.sk-item::before, #sk-container-id-2 div.sk-parallel-item::before {content: \"\";position: absolute;border-left: 1px solid gray;box-sizing: border-box;top: 0;bottom: 0;left: 50%;z-index: -1;}#sk-container-id-2 div.sk-parallel-item {display: flex;flex-direction: column;z-index: 1;position: relative;background-color: white;}#sk-container-id-2 div.sk-parallel-item:first-child::after {align-self: flex-end;width: 50%;}#sk-container-id-2 div.sk-parallel-item:last-child::after {align-self: flex-start;width: 50%;}#sk-container-id-2 div.sk-parallel-item:only-child::after {width: 0;}#sk-container-id-2 div.sk-dashed-wrapped {border: 1px dashed gray;margin: 0 0.4em 0.5em 0.4em;box-sizing: border-box;padding-bottom: 0.4em;background-color: white;}#sk-container-id-2 div.sk-label label {font-family: monospace;font-weight: bold;display: inline-block;line-height: 1.2em;}#sk-container-id-2 div.sk-label-container {text-align: center;}#sk-container-id-2 div.sk-container {/* jupyter's `normalize.less` sets `[hidden] { display: none; }` but bootstrap.min.css set `[hidden] { display: none !important; }` so we also need the `!important` here to be able to override the default hidden behavior on the sphinx rendered scikit-learn.org. See: https://github.com/scikit-learn/scikit-learn/issues/21755 */display: inline-block !important;position: relative;}#sk-container-id-2 div.sk-text-repr-fallback {display: none;}</style><div id=\"sk-container-id-2\" class=\"sk-top-container\"><div class=\"sk-text-repr-fallback\"><pre>RandomForestRegressor()</pre><b>In a Jupyter environment, please rerun this cell to show the HTML representation or trust the notebook. <br />On GitHub, the HTML representation is unable to render, please try loading this page with nbviewer.org.</b></div><div class=\"sk-container\" hidden><div class=\"sk-item\"><div class=\"sk-estimator sk-toggleable\"><input class=\"sk-toggleable__control sk-hidden--visually\" id=\"sk-estimator-id-2\" type=\"checkbox\" checked><label for=\"sk-estimator-id-2\" class=\"sk-toggleable__label sk-toggleable__label-arrow\">RandomForestRegressor</label><div class=\"sk-toggleable__content\"><pre>RandomForestRegressor()</pre></div></div></div></div></div>"
      ],
      "text/plain": [
       "RandomForestRegressor()"
      ]
     },
     "execution_count": 186,
     "metadata": {},
     "output_type": "execute_result"
    }
   ],
   "source": [
    "# Choose the type of classifier. \n",
    "RFR = RandomForestRegressor()\n",
    "\n",
    "# Choose some parameter combinations to try\n",
    "parameters = {'n_estimators': [5, 10, 100],\n",
    "              'min_samples_leaf': [1,5]\n",
    "             }\n",
    "\n",
    "\n",
    "#We have to use RandomForestRegressor's own scorer (which is R^2 score)\n",
    "\n",
    "#Determines the cross-validation splitting strategy /to specify the number of folds in a (Stratified)KFold\n",
    "grid_obj = GridSearchCV(RFR, parameters,\n",
    "                        cv=5, \n",
    "                        n_jobs=-1, #Number of jobs to run in parallel\n",
    "                        verbose=1)\n",
    "grid_obj = grid_obj.fit(X_train, y_train)\n",
    "\n",
    "# Set the clf to the best combination of parameters\n",
    "RFR = grid_obj.best_estimator_\n",
    "\n",
    "# Fit the best algorithm to the data. \n",
    "RFR.fit(X_train, y_train)"
   ]
  },
  {
   "cell_type": "code",
   "execution_count": 187,
   "metadata": {},
   "outputs": [
    {
     "name": "stdout",
     "output_type": "stream",
     "text": [
      "R2 score =  0.832941494283896 / 1.0\n",
      "MSE score =  0.00015490167068213823 / 0.0\n"
     ]
    }
   ],
   "source": [
    "y_pred = RFR.predict(X_test)\n",
    "\n",
    "print('R2 score = ',r2_score(y_test, y_pred), '/ 1.0')\n",
    "print('MSE score = ',mean_squared_error(y_test, y_pred), '/ 0.0')"
   ]
  },
  {
   "cell_type": "code",
   "execution_count": 188,
   "metadata": {},
   "outputs": [
    {
     "name": "stdout",
     "output_type": "stream",
     "text": [
      "Fitting 5 folds for each of 54 candidates, totalling 270 fits\n"
     ]
    },
    {
     "name": "stderr",
     "output_type": "stream",
     "text": [
      "C:\\Users\\kevin\\anaconda3\\envs\\tensorflow-gpu\\lib\\site-packages\\sklearn\\ensemble\\_forest.py:400: FutureWarning: Criterion 'mse' was deprecated in v1.0 and will be removed in version 1.2. Use `criterion='squared_error'` which is equivalent.\n",
      "  warn(\n",
      "C:\\Users\\kevin\\anaconda3\\envs\\tensorflow-gpu\\lib\\site-packages\\sklearn\\ensemble\\_forest.py:400: FutureWarning: Criterion 'mse' was deprecated in v1.0 and will be removed in version 1.2. Use `criterion='squared_error'` which is equivalent.\n",
      "  warn(\n"
     ]
    },
    {
     "data": {
      "text/html": [
       "<style>#sk-container-id-3 {color: black;background-color: white;}#sk-container-id-3 pre{padding: 0;}#sk-container-id-3 div.sk-toggleable {background-color: white;}#sk-container-id-3 label.sk-toggleable__label {cursor: pointer;display: block;width: 100%;margin-bottom: 0;padding: 0.3em;box-sizing: border-box;text-align: center;}#sk-container-id-3 label.sk-toggleable__label-arrow:before {content: \"▸\";float: left;margin-right: 0.25em;color: #696969;}#sk-container-id-3 label.sk-toggleable__label-arrow:hover:before {color: black;}#sk-container-id-3 div.sk-estimator:hover label.sk-toggleable__label-arrow:before {color: black;}#sk-container-id-3 div.sk-toggleable__content {max-height: 0;max-width: 0;overflow: hidden;text-align: left;background-color: #f0f8ff;}#sk-container-id-3 div.sk-toggleable__content pre {margin: 0.2em;color: black;border-radius: 0.25em;background-color: #f0f8ff;}#sk-container-id-3 input.sk-toggleable__control:checked~div.sk-toggleable__content {max-height: 200px;max-width: 100%;overflow: auto;}#sk-container-id-3 input.sk-toggleable__control:checked~label.sk-toggleable__label-arrow:before {content: \"▾\";}#sk-container-id-3 div.sk-estimator input.sk-toggleable__control:checked~label.sk-toggleable__label {background-color: #d4ebff;}#sk-container-id-3 div.sk-label input.sk-toggleable__control:checked~label.sk-toggleable__label {background-color: #d4ebff;}#sk-container-id-3 input.sk-hidden--visually {border: 0;clip: rect(1px 1px 1px 1px);clip: rect(1px, 1px, 1px, 1px);height: 1px;margin: -1px;overflow: hidden;padding: 0;position: absolute;width: 1px;}#sk-container-id-3 div.sk-estimator {font-family: monospace;background-color: #f0f8ff;border: 1px dotted black;border-radius: 0.25em;box-sizing: border-box;margin-bottom: 0.5em;}#sk-container-id-3 div.sk-estimator:hover {background-color: #d4ebff;}#sk-container-id-3 div.sk-parallel-item::after {content: \"\";width: 100%;border-bottom: 1px solid gray;flex-grow: 1;}#sk-container-id-3 div.sk-label:hover label.sk-toggleable__label {background-color: #d4ebff;}#sk-container-id-3 div.sk-serial::before {content: \"\";position: absolute;border-left: 1px solid gray;box-sizing: border-box;top: 0;bottom: 0;left: 50%;z-index: 0;}#sk-container-id-3 div.sk-serial {display: flex;flex-direction: column;align-items: center;background-color: white;padding-right: 0.2em;padding-left: 0.2em;position: relative;}#sk-container-id-3 div.sk-item {position: relative;z-index: 1;}#sk-container-id-3 div.sk-parallel {display: flex;align-items: stretch;justify-content: center;background-color: white;position: relative;}#sk-container-id-3 div.sk-item::before, #sk-container-id-3 div.sk-parallel-item::before {content: \"\";position: absolute;border-left: 1px solid gray;box-sizing: border-box;top: 0;bottom: 0;left: 50%;z-index: -1;}#sk-container-id-3 div.sk-parallel-item {display: flex;flex-direction: column;z-index: 1;position: relative;background-color: white;}#sk-container-id-3 div.sk-parallel-item:first-child::after {align-self: flex-end;width: 50%;}#sk-container-id-3 div.sk-parallel-item:last-child::after {align-self: flex-start;width: 50%;}#sk-container-id-3 div.sk-parallel-item:only-child::after {width: 0;}#sk-container-id-3 div.sk-dashed-wrapped {border: 1px dashed gray;margin: 0 0.4em 0.5em 0.4em;box-sizing: border-box;padding-bottom: 0.4em;background-color: white;}#sk-container-id-3 div.sk-label label {font-family: monospace;font-weight: bold;display: inline-block;line-height: 1.2em;}#sk-container-id-3 div.sk-label-container {text-align: center;}#sk-container-id-3 div.sk-container {/* jupyter's `normalize.less` sets `[hidden] { display: none; }` but bootstrap.min.css set `[hidden] { display: none !important; }` so we also need the `!important` here to be able to override the default hidden behavior on the sphinx rendered scikit-learn.org. See: https://github.com/scikit-learn/scikit-learn/issues/21755 */display: inline-block !important;position: relative;}#sk-container-id-3 div.sk-text-repr-fallback {display: none;}</style><div id=\"sk-container-id-3\" class=\"sk-top-container\"><div class=\"sk-text-repr-fallback\"><pre>RandomForestRegressor(criterion=&#x27;mse&#x27;, max_depth=15)</pre><b>In a Jupyter environment, please rerun this cell to show the HTML representation or trust the notebook. <br />On GitHub, the HTML representation is unable to render, please try loading this page with nbviewer.org.</b></div><div class=\"sk-container\" hidden><div class=\"sk-item\"><div class=\"sk-estimator sk-toggleable\"><input class=\"sk-toggleable__control sk-hidden--visually\" id=\"sk-estimator-id-3\" type=\"checkbox\" checked><label for=\"sk-estimator-id-3\" class=\"sk-toggleable__label sk-toggleable__label-arrow\">RandomForestRegressor</label><div class=\"sk-toggleable__content\"><pre>RandomForestRegressor(criterion=&#x27;mse&#x27;, max_depth=15)</pre></div></div></div></div></div>"
      ],
      "text/plain": [
       "RandomForestRegressor(criterion='mse', max_depth=15)"
      ]
     },
     "execution_count": 188,
     "metadata": {},
     "output_type": "execute_result"
    }
   ],
   "source": [
    "RFR = RandomForestRegressor()\n",
    "\n",
    "# Choose some parameter combinations to try\n",
    "parameters = {'n_estimators': [5,10,100],\n",
    "              'criterion': ['mse'],\n",
    "              'max_depth': [5,10,15], \n",
    "              'min_samples_split': [2,5,10],\n",
    "              'min_samples_leaf': [1,5]\n",
    "             }\n",
    "\n",
    "\n",
    "#We have to use RandomForestRegressor's own scorer (which is R^2 score)\n",
    "\n",
    "#Determines the cross-validation splitting strategy /to specify the number of folds in a (Stratified)KFold\n",
    "grid_obj = GridSearchCV(RFR, parameters,\n",
    "                        cv=5, \n",
    "                        n_jobs=-1, #Number of jobs to run in parallel\n",
    "                        verbose=1)\n",
    "grid_obj = grid_obj.fit(X_train, y_train)\n",
    "\n",
    "# Set the clf to the best combination of parameters\n",
    "RFR = grid_obj.best_estimator_\n",
    "\n",
    "# Fit the best algorithm to the data. \n",
    "RFR.fit(X_train, y_train)"
   ]
  },
  {
   "cell_type": "code",
   "execution_count": 189,
   "metadata": {},
   "outputs": [
    {
     "name": "stdout",
     "output_type": "stream",
     "text": [
      "R2 score =  0.8402080804381403 / 1.0\n",
      "MSE score =  0.00014816387346179805 / 0.0\n"
     ]
    }
   ],
   "source": [
    "y_pred = RFR.predict(X_test)\n",
    "\n",
    "print('R2 score = ',r2_score(y_test, y_pred), '/ 1.0')\n",
    "print('MSE score = ',mean_squared_error(y_test, y_pred), '/ 0.0')"
   ]
  },
  {
   "cell_type": "markdown",
   "metadata": {},
   "source": [
    "## 9.f. XGBOOST\n",
    "\n",
    "XGBoost (eXtreme Gradient Boosting) is a direct application of Gradient Boosting for decision trees\n",
    "\n",
    "Main advantages are as follows:\n",
    "1. Easy to use\n",
    "2. Computational efficiency\n",
    "3. Model Accuracy\n",
    "4. Feasibility — easy to tune parameters and modify objectives."
   ]
  },
  {
   "cell_type": "code",
   "execution_count": 192,
   "metadata": {
    "tags": []
   },
   "outputs": [],
   "source": [
    "model=XGBRegressor(max_depth=5)"
   ]
  },
  {
   "cell_type": "code",
   "execution_count": 193,
   "metadata": {},
   "outputs": [
    {
     "name": "stderr",
     "output_type": "stream",
     "text": [
      "C:\\Users\\kevin\\anaconda3\\envs\\tensorflow-gpu\\lib\\site-packages\\xgboost\\data.py:250: FutureWarning: pandas.Int64Index is deprecated and will be removed from pandas in a future version. Use pandas.Index with the appropriate dtype instead.\n",
      "  elif isinstance(data.columns, (pd.Int64Index, pd.RangeIndex)):\n"
     ]
    },
    {
     "data": {
      "text/html": [
       "<style>#sk-container-id-5 {color: black;background-color: white;}#sk-container-id-5 pre{padding: 0;}#sk-container-id-5 div.sk-toggleable {background-color: white;}#sk-container-id-5 label.sk-toggleable__label {cursor: pointer;display: block;width: 100%;margin-bottom: 0;padding: 0.3em;box-sizing: border-box;text-align: center;}#sk-container-id-5 label.sk-toggleable__label-arrow:before {content: \"▸\";float: left;margin-right: 0.25em;color: #696969;}#sk-container-id-5 label.sk-toggleable__label-arrow:hover:before {color: black;}#sk-container-id-5 div.sk-estimator:hover label.sk-toggleable__label-arrow:before {color: black;}#sk-container-id-5 div.sk-toggleable__content {max-height: 0;max-width: 0;overflow: hidden;text-align: left;background-color: #f0f8ff;}#sk-container-id-5 div.sk-toggleable__content pre {margin: 0.2em;color: black;border-radius: 0.25em;background-color: #f0f8ff;}#sk-container-id-5 input.sk-toggleable__control:checked~div.sk-toggleable__content {max-height: 200px;max-width: 100%;overflow: auto;}#sk-container-id-5 input.sk-toggleable__control:checked~label.sk-toggleable__label-arrow:before {content: \"▾\";}#sk-container-id-5 div.sk-estimator input.sk-toggleable__control:checked~label.sk-toggleable__label {background-color: #d4ebff;}#sk-container-id-5 div.sk-label input.sk-toggleable__control:checked~label.sk-toggleable__label {background-color: #d4ebff;}#sk-container-id-5 input.sk-hidden--visually {border: 0;clip: rect(1px 1px 1px 1px);clip: rect(1px, 1px, 1px, 1px);height: 1px;margin: -1px;overflow: hidden;padding: 0;position: absolute;width: 1px;}#sk-container-id-5 div.sk-estimator {font-family: monospace;background-color: #f0f8ff;border: 1px dotted black;border-radius: 0.25em;box-sizing: border-box;margin-bottom: 0.5em;}#sk-container-id-5 div.sk-estimator:hover {background-color: #d4ebff;}#sk-container-id-5 div.sk-parallel-item::after {content: \"\";width: 100%;border-bottom: 1px solid gray;flex-grow: 1;}#sk-container-id-5 div.sk-label:hover label.sk-toggleable__label {background-color: #d4ebff;}#sk-container-id-5 div.sk-serial::before {content: \"\";position: absolute;border-left: 1px solid gray;box-sizing: border-box;top: 0;bottom: 0;left: 50%;z-index: 0;}#sk-container-id-5 div.sk-serial {display: flex;flex-direction: column;align-items: center;background-color: white;padding-right: 0.2em;padding-left: 0.2em;position: relative;}#sk-container-id-5 div.sk-item {position: relative;z-index: 1;}#sk-container-id-5 div.sk-parallel {display: flex;align-items: stretch;justify-content: center;background-color: white;position: relative;}#sk-container-id-5 div.sk-item::before, #sk-container-id-5 div.sk-parallel-item::before {content: \"\";position: absolute;border-left: 1px solid gray;box-sizing: border-box;top: 0;bottom: 0;left: 50%;z-index: -1;}#sk-container-id-5 div.sk-parallel-item {display: flex;flex-direction: column;z-index: 1;position: relative;background-color: white;}#sk-container-id-5 div.sk-parallel-item:first-child::after {align-self: flex-end;width: 50%;}#sk-container-id-5 div.sk-parallel-item:last-child::after {align-self: flex-start;width: 50%;}#sk-container-id-5 div.sk-parallel-item:only-child::after {width: 0;}#sk-container-id-5 div.sk-dashed-wrapped {border: 1px dashed gray;margin: 0 0.4em 0.5em 0.4em;box-sizing: border-box;padding-bottom: 0.4em;background-color: white;}#sk-container-id-5 div.sk-label label {font-family: monospace;font-weight: bold;display: inline-block;line-height: 1.2em;}#sk-container-id-5 div.sk-label-container {text-align: center;}#sk-container-id-5 div.sk-container {/* jupyter's `normalize.less` sets `[hidden] { display: none; }` but bootstrap.min.css set `[hidden] { display: none !important; }` so we also need the `!important` here to be able to override the default hidden behavior on the sphinx rendered scikit-learn.org. See: https://github.com/scikit-learn/scikit-learn/issues/21755 */display: inline-block !important;position: relative;}#sk-container-id-5 div.sk-text-repr-fallback {display: none;}</style><div id=\"sk-container-id-5\" class=\"sk-top-container\"><div class=\"sk-text-repr-fallback\"><pre>XGBRegressor(base_score=0.5, booster=&#x27;gbtree&#x27;, colsample_bylevel=1,\n",
       "             colsample_bynode=1, colsample_bytree=1, enable_categorical=False,\n",
       "             gamma=0, gpu_id=-1, importance_type=None,\n",
       "             interaction_constraints=&#x27;&#x27;, learning_rate=0.300000012,\n",
       "             max_delta_step=0, max_depth=5, min_child_weight=1, missing=nan,\n",
       "             monotone_constraints=&#x27;()&#x27;, n_estimators=100, n_jobs=20,\n",
       "             num_parallel_tree=1, predictor=&#x27;auto&#x27;, random_state=0, reg_alpha=0,\n",
       "             reg_lambda=1, scale_pos_weight=1, subsample=1, tree_method=&#x27;exact&#x27;,\n",
       "             validate_parameters=1, verbosity=None)</pre><b>In a Jupyter environment, please rerun this cell to show the HTML representation or trust the notebook. <br />On GitHub, the HTML representation is unable to render, please try loading this page with nbviewer.org.</b></div><div class=\"sk-container\" hidden><div class=\"sk-item\"><div class=\"sk-estimator sk-toggleable\"><input class=\"sk-toggleable__control sk-hidden--visually\" id=\"sk-estimator-id-5\" type=\"checkbox\" checked><label for=\"sk-estimator-id-5\" class=\"sk-toggleable__label sk-toggleable__label-arrow\">XGBRegressor</label><div class=\"sk-toggleable__content\"><pre>XGBRegressor(base_score=0.5, booster=&#x27;gbtree&#x27;, colsample_bylevel=1,\n",
       "             colsample_bynode=1, colsample_bytree=1, enable_categorical=False,\n",
       "             gamma=0, gpu_id=-1, importance_type=None,\n",
       "             interaction_constraints=&#x27;&#x27;, learning_rate=0.300000012,\n",
       "             max_delta_step=0, max_depth=5, min_child_weight=1, missing=nan,\n",
       "             monotone_constraints=&#x27;()&#x27;, n_estimators=100, n_jobs=20,\n",
       "             num_parallel_tree=1, predictor=&#x27;auto&#x27;, random_state=0, reg_alpha=0,\n",
       "             reg_lambda=1, scale_pos_weight=1, subsample=1, tree_method=&#x27;exact&#x27;,\n",
       "             validate_parameters=1, verbosity=None)</pre></div></div></div></div></div>"
      ],
      "text/plain": [
       "XGBRegressor(base_score=0.5, booster='gbtree', colsample_bylevel=1,\n",
       "             colsample_bynode=1, colsample_bytree=1, enable_categorical=False,\n",
       "             gamma=0, gpu_id=-1, importance_type=None,\n",
       "             interaction_constraints='', learning_rate=0.300000012,\n",
       "             max_delta_step=0, max_depth=5, min_child_weight=1, missing=nan,\n",
       "             monotone_constraints='()', n_estimators=100, n_jobs=20,\n",
       "             num_parallel_tree=1, predictor='auto', random_state=0, reg_alpha=0,\n",
       "             reg_lambda=1, scale_pos_weight=1, subsample=1, tree_method='exact',\n",
       "             validate_parameters=1, verbosity=None)"
      ]
     },
     "execution_count": 193,
     "metadata": {},
     "output_type": "execute_result"
    }
   ],
   "source": [
    "model.fit(X_train,y_train)"
   ]
  },
  {
   "cell_type": "code",
   "execution_count": 194,
   "metadata": {
    "tags": []
   },
   "outputs": [],
   "source": [
    "y_pred=model.predict(X_test)"
   ]
  },
  {
   "cell_type": "code",
   "execution_count": 195,
   "metadata": {},
   "outputs": [
    {
     "name": "stdout",
     "output_type": "stream",
     "text": [
      "R2 score using XG Boost=  0.8582510709549562 / 1.0\n",
      "MSE score using XG Boost=  0.00013143387002272544 / 0.0\n"
     ]
    }
   ],
   "source": [
    "print('R2 score using XG Boost= ',r2_score(y_test, y_pred), '/ 1.0')\n",
    "print('MSE score using XG Boost= ',mean_squared_error(y_test, y_pred), '/ 0.0')"
   ]
  },
  {
   "cell_type": "markdown",
   "metadata": {},
   "source": [
    "# Correlation Matrix"
   ]
  },
  {
   "cell_type": "code",
   "execution_count": null,
   "metadata": {},
   "outputs": [
    {
     "data": {
      "text/html": [
       "<div>\n",
       "<style scoped>\n",
       "    .dataframe tbody tr th:only-of-type {\n",
       "        vertical-align: middle;\n",
       "    }\n",
       "\n",
       "    .dataframe tbody tr th {\n",
       "        vertical-align: top;\n",
       "    }\n",
       "\n",
       "    .dataframe thead th {\n",
       "        text-align: right;\n",
       "    }\n",
       "</style>\n",
       "<table border=\"1\" class=\"dataframe\">\n",
       "  <thead>\n",
       "    <tr style=\"text-align: right;\">\n",
       "      <th></th>\n",
       "      <th>store_nbr</th>\n",
       "      <th>item_nbr</th>\n",
       "      <th>unit_sales</th>\n",
       "      <th>cluster</th>\n",
       "      <th>perishable</th>\n",
       "      <th>dcoilwtico</th>\n",
       "    </tr>\n",
       "  </thead>\n",
       "  <tbody>\n",
       "    <tr>\n",
       "      <th>store_nbr</th>\n",
       "      <td>1.000000</td>\n",
       "      <td>0.008584</td>\n",
       "      <td>0.049419</td>\n",
       "      <td>0.035167</td>\n",
       "      <td>0.004841</td>\n",
       "      <td>0.000081</td>\n",
       "    </tr>\n",
       "    <tr>\n",
       "      <th>item_nbr</th>\n",
       "      <td>0.008584</td>\n",
       "      <td>1.000000</td>\n",
       "      <td>0.024456</td>\n",
       "      <td>0.001199</td>\n",
       "      <td>0.044806</td>\n",
       "      <td>0.000774</td>\n",
       "    </tr>\n",
       "    <tr>\n",
       "      <th>unit_sales</th>\n",
       "      <td>0.049419</td>\n",
       "      <td>0.024456</td>\n",
       "      <td>1.000000</td>\n",
       "      <td>0.017562</td>\n",
       "      <td>0.051758</td>\n",
       "      <td>0.003918</td>\n",
       "    </tr>\n",
       "    <tr>\n",
       "      <th>cluster</th>\n",
       "      <td>0.035167</td>\n",
       "      <td>0.001199</td>\n",
       "      <td>0.017562</td>\n",
       "      <td>1.000000</td>\n",
       "      <td>-0.004240</td>\n",
       "      <td>0.001593</td>\n",
       "    </tr>\n",
       "    <tr>\n",
       "      <th>perishable</th>\n",
       "      <td>0.004841</td>\n",
       "      <td>0.044806</td>\n",
       "      <td>0.051758</td>\n",
       "      <td>-0.004240</td>\n",
       "      <td>1.000000</td>\n",
       "      <td>-0.000611</td>\n",
       "    </tr>\n",
       "    <tr>\n",
       "      <th>dcoilwtico</th>\n",
       "      <td>0.000081</td>\n",
       "      <td>0.000774</td>\n",
       "      <td>0.003918</td>\n",
       "      <td>0.001593</td>\n",
       "      <td>-0.000611</td>\n",
       "      <td>1.000000</td>\n",
       "    </tr>\n",
       "  </tbody>\n",
       "</table>\n",
       "</div>"
      ],
      "text/plain": [
       "            store_nbr  item_nbr  unit_sales   cluster  perishable  dcoilwtico\n",
       "store_nbr    1.000000  0.008584    0.049419  0.035167    0.004841    0.000081\n",
       "item_nbr     0.008584  1.000000    0.024456  0.001199    0.044806    0.000774\n",
       "unit_sales   0.049419  0.024456    1.000000  0.017562    0.051758    0.003918\n",
       "cluster      0.035167  0.001199    0.017562  1.000000   -0.004240    0.001593\n",
       "perishable   0.004841  0.044806    0.051758 -0.004240    1.000000   -0.000611\n",
       "dcoilwtico   0.000081  0.000774    0.003918  0.001593   -0.000611    1.000000"
      ]
     },
     "execution_count": 199,
     "metadata": {},
     "output_type": "execute_result"
    }
   ],
   "source": [
    "Salesdf.corr()"
   ]
  },
  {
   "cell_type": "code",
   "execution_count": 200,
   "metadata": {},
   "outputs": [
    {
     "data": {
      "text/plain": [
       "<AxesSubplot:>"
      ]
     },
     "execution_count": 200,
     "metadata": {},
     "output_type": "execute_result"
    },
    {
     "data": {
      "image/png": "[encoded data removed]",
      "text/plain": [
       "<Figure size 1152x1152 with 2 Axes>"
      ]
     },
     "metadata": {
      "needs_background": "light"
     },
     "output_type": "display_data"
    }
   ],
   "source": [
    "import matplotlib.pyplot as plt\n",
    "import seaborn as sns\n",
    "plt.figure(figsize=(16,16))\n",
    "sns.heatmap(Salesdf.corr(), square=True, annot=True, cmap=\"RdBu_r\") #center=0, cmap=\"YlGnBu\""
   ]
  },
  {
   "cell_type": "markdown",
   "metadata": {},
   "source": [
    "## 11. Creating a neural network\n",
    "\n",
    "Multi-layer Perceptron (MLP) is a supervised learning algorithm that learns a function  by training on a dataset, where  is the number of dimensions for input and  is the number of dimensions for output.\n",
    "\n",
    "The advantages of Multi-layer Perceptron are:\n",
    "\n",
    "-- Capability to learn non-linear models.\n",
    "\n",
    "-- Capability to learn models in real-time (on-line learning) using partial_fit."
   ]
  },
  {
   "cell_type": "code",
   "execution_count": 201,
   "metadata": {},
   "outputs": [
    {
     "name": "stdout",
     "output_type": "stream",
     "text": [
      "[[0.62302483 1.         0.         ... 1.         0.         0.        ]\n",
      " [0.86004515 0.         1.         ... 0.         0.         1.        ]\n",
      " [0.13995485 1.         0.         ... 0.         1.         0.        ]\n",
      " ...\n",
      " [0.86004515 1.         0.         ... 0.         0.         1.        ]\n",
      " [0.74266366 1.         0.         ... 0.         1.         0.        ]\n",
      " [0.85553047 1.         0.         ... 0.         0.         0.        ]]\n",
      "[[0.02301255]\n",
      " [0.01046025]\n",
      " [0.00679916]\n",
      " [0.01202929]\n",
      " [0.0083682 ]\n",
      " [0.00889121]\n",
      " [0.02196653]\n",
      " [0.01464435]\n",
      " [0.00627615]\n",
      " [0.00941423]]\n"
     ]
    }
   ],
   "source": [
    "# Convert data as np.array\n",
    "features = np.array(X_train)\n",
    "#targets = np.array(y_train.reshape(y_train.shape[0],1))\n",
    "targets = np.array(y_train.values.reshape(y_train.shape[0],1))\n",
    "features_validation= np.array(X_test)\n",
    "#targets_validation = np.array(y_test.reshape(y_test.shape[0],1))\n",
    "targets_validation = np.array(y_test.values.reshape(y_test.shape[0],1))\n",
    "\n",
    "print(features[:10])\n",
    "print(targets[:10])"
   ]
  },
  {
   "cell_type": "code",
   "execution_count": 202,
   "metadata": {},
   "outputs": [
    {
     "name": "stdout",
     "output_type": "stream",
     "text": [
      "Model: \"sequential\"\n",
      "_________________________________________________________________\n",
      " Layer (type)                Output Shape              Param #   \n",
      "=================================================================\n",
      " dense (Dense)               (None, 32)                4736      \n",
      "                                                                 \n",
      " dropout (Dropout)           (None, 32)                0         \n",
      "                                                                 \n",
      " dense_1 (Dense)             (None, 16)                528       \n",
      "                                                                 \n",
      " dropout_1 (Dropout)         (None, 16)                0         \n",
      "                                                                 \n",
      " dense_2 (Dense)             (None, 1)                 17        \n",
      "                                                                 \n",
      "=================================================================\n",
      "Total params: 5,281\n",
      "Trainable params: 5,281\n",
      "Non-trainable params: 0\n",
      "_________________________________________________________________\n"
     ]
    }
   ],
   "source": [
    "# Building the model\n",
    "model = Sequential()\n",
    "model.add(Dense(32, activation='relu', input_shape=(X_train.shape[1],)))\n",
    "model.add(Dropout(.2))\n",
    "model.add(Dense(16, activation='relu'))\n",
    "model.add(Dropout(.1))\n",
    "model.add(Dense(1))\n",
    "\n",
    "# Compiling the model\n",
    "model.compile(loss = 'mse', optimizer='adam', metrics=['mse']) #mse: mean_square_error\n",
    "model.summary()"
   ]
  },
  {
   "cell_type": "code",
   "execution_count": 206,
   "metadata": {},
   "outputs": [
    {
     "name": "stdout",
     "output_type": "stream",
     "text": [
      "Step :  0 / 1000\n",
      "856/856 [==============================] - 1s 2ms/step - loss: 6.7650e-05 - mse: 6.7650e-05\n",
      "Training MSE: 6.765040598111227e-05\n",
      "214/214 [==============================] - 0s 2ms/step - loss: 1.3739e-04 - mse: 1.3739e-04\n",
      "Validation MSE: 0.00013739262067247182 \n",
      "\n",
      "Step :  250 / 1000\n",
      "856/856 [==============================] - 2s 2ms/step - loss: 7.7366e-05 - mse: 7.7366e-05\n",
      "Training MSE: 7.736593397567049e-05\n",
      "214/214 [==============================] - 0s 2ms/step - loss: 1.4840e-04 - mse: 1.4840e-04\n",
      "Validation MSE: 0.00014839509094599634 \n",
      "\n",
      "Step :  500 / 1000\n",
      "856/856 [==============================] - 2s 2ms/step - loss: 7.1356e-05 - mse: 7.1356e-05\n",
      "Training MSE: 7.135608029784635e-05\n",
      "214/214 [==============================] - 1s 3ms/step - loss: 1.3937e-04 - mse: 1.3937e-04\n",
      "Validation MSE: 0.00013936980394646525 \n",
      "\n",
      "Step :  750 / 1000\n",
      "856/856 [==============================] - 2s 2ms/step - loss: 8.8565e-05 - mse: 8.8565e-05\n",
      "Training MSE: 8.856507338350639e-05\n",
      "214/214 [==============================] - 0s 2ms/step - loss: 1.5225e-04 - mse: 1.5225e-04\n",
      "Validation MSE: 0.00015224835078697652 \n",
      "\n"
     ]
    },
    {
     "data": {
      "image/png": "[encoded data removed]",
      "text/plain": [
       "<Figure size 720x576 with 1 Axes>"
      ]
     },
     "metadata": {
      "needs_background": "light"
     },
     "output_type": "display_data"
    }
   ],
   "source": [
    "# Training the model\n",
    "epochs_tot = 1000\n",
    "epochs_step = 250\n",
    "epochs_ratio = int(epochs_tot / epochs_step)\n",
    "hist =np.array([])\n",
    "\n",
    "for i in range(epochs_ratio):\n",
    "    history = model.fit(features, targets, epochs=epochs_step, batch_size=100, verbose=0)\n",
    "    \n",
    "    # Evaluating the model on the training and testing set\n",
    "    print(\"Step : \" , i * epochs_step, \"/\", epochs_tot)\n",
    "    score = model.evaluate(features, targets)\n",
    "    print(\"Training MSE:\", score[1])\n",
    "    score = model.evaluate(features_validation, targets_validation)\n",
    "    print(\"Validation MSE:\", score[1], \"\\n\")\n",
    "    hist = np.concatenate((hist, np.array(history.history['mse'])), axis = 0)\n",
    "    \n",
    "# plot metrics\n",
    "plt.plot(hist)\n",
    "plt.show()"
   ]
  },
  {
   "cell_type": "code",
   "execution_count": 207,
   "metadata": {},
   "outputs": [
    {
     "name": "stdout",
     "output_type": "stream",
     "text": [
      "R2 score =  0.8358030244298048 / 1.0\n",
      "MSE score =  0.00015224837387208627 / 0.0\n"
     ]
    }
   ],
   "source": [
    "y_pred = model.predict(features_validation, verbose=0)\n",
    "\n",
    "print('R2 score = ',r2_score(y_test, y_pred), '/ 1.0')\n",
    "print('MSE score = ',mean_squared_error(y_test, y_pred), '/ 0.0')"
   ]
  },
  {
   "cell_type": "code",
   "execution_count": 209,
   "metadata": {},
   "outputs": [
    {
     "name": "stderr",
     "output_type": "stream",
     "text": [
      "C:\\Users\\kevin\\AppData\\Local\\Temp\\ipykernel_6164\\3061968914.py:3: UserWarning: color is redundantly defined by the 'color' keyword argument and the fmt string \"ro\" (-> color='r'). The keyword argument will take precedence.\n",
      "  plt.plot(y_pred[0:50], 'ro', color ='red', alpha=0.5)\n"
     ]
    },
    {
     "data": {
      "image/png": "[encoded data removed]",
      "text/plain": [
       "<Figure size 720x576 with 1 Axes>"
      ]
     },
     "metadata": {
      "needs_background": "light"
     },
     "output_type": "display_data"
    }
   ],
   "source": [
    "#Lets plot the  first 50 predictions\n",
    "plt.plot(y_test.to_numpy()[0:50], '+', color ='blue', alpha=0.7)\n",
    "plt.plot(y_pred[0:50], 'ro', color ='red', alpha=0.5)\n",
    "plt.show()"
   ]
  },
  {
   "cell_type": "markdown",
   "metadata": {},
   "source": [
    "# 12. Conclusion\n",
    "We are getting following results on applying data set on different models:\n",
    "\n",
    "Model                                    \n",
    "R2 Score\n",
    "\n",
    "Linear Regression                  \n",
    "0.36\n",
    "\n",
    "Decision Tree Regression           \n",
    "0.34\n",
    "\n",
    "Random Forest Regression           \n",
    "0.83\n",
    "\n",
    "XG Boost                           \n",
    "0.85"
   ]
  },
  {
   "cell_type": "markdown",
   "metadata": {},
   "source": [
    "當然可以再看看是否還有更好的方法可以提升分數"
   ]
  },
  {
   "cell_type": "markdown",
   "metadata": {},
   "source": [
    "# 13. References and Attributions\n",
    "\n",
    "[1] Cui, G., Wong, M. L., & Lui, H. K. (2006). Machine learning for direct marketing response models:\n",
    "Bayesian networks with evolutionary programming.Management Science, 52(4), 597-612\n",
    "\n",
    "[2] Taylor, E. L. (2014). Predicting Consumer Behavior. Research World, 2014(46), 67-68\n",
    "\n",
    "[3] Morwitz, V. G., Steckel, J. H., & Gupta, A. (2007). When do purchase intentions predict sales?.\n",
    "International Journal of Forecasting, 23(3), 347-364\n",
    "\n",
    "[4] https://www.kaggle.com/c/favorita-grocery-sales-forecasting/data\n",
    "\n",
    "[5] https://en.wikipedia.org/wiki/Xgboost\n",
    "\n",
    "[6] https://en.wikipedia.org/wiki/Random_forest\n",
    "\n",
    "[7] https://en.wikipedia.org/wiki/Decision_tree\n",
    "\n",
    "[8]https://www.analyticsvidhya.com/blog/2017/06/which-algorithm-takes-the-crown-light-gbm-vsxgboost/\n",
    "\n",
    "[9] https://www.tutorialspoint.com/sales_forecasting/sales_forecasting_discussion.html\n",
    "\n",
    "The text in the document by Source Wikipedia is licensed under CC BY 3.0 https://creativecommons.org/licenses/by/3.0/us/\n",
    "\n",
    "The text in the document by Analytics Vidhya is licensed under CC BY 3.0 https://creativecommons.org/licenses/by/3.0/us/\n",
    "\n",
    "The text in the document by towards data science is licensed under CC BY 3.0 https://creativecommons.org/licenses/by/3.0/us/\n",
    "\n",
    "The code in the document by Source Kaggle is licensed under the MIT License https://opensource.org/licenses/MIT"
   ]
  }
 ],
 "metadata": {
  "kernelspec": {
   "display_name": "Python 3 (ipykernel)",
   "language": "python",
   "name": "python3"
  },
  "language_info": {
   "codemirror_mode": {
    "name": "ipython",
    "version": 3
   },
   "file_extension": ".py",
   "mimetype": "text/x-python",
   "name": "python",
   "nbconvert_exporter": "python",
   "pygments_lexer": "ipython3",
   "version": "3.9.12"
  }
 },
 "nbformat": 4,
 "nbformat_minor": 4
}
